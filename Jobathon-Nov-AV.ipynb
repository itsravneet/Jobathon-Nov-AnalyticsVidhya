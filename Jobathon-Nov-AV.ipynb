{
  "nbformat": 4,
  "nbformat_minor": 0,
  "metadata": {
    "colab": {
      "name": "JobAthon2.ipynb",
      "provenance": []
    },
    "kernelspec": {
      "name": "python3",
      "display_name": "Python 3"
    },
    "language_info": {
      "name": "python"
    }
  },
  "cells": [
    {
      "cell_type": "markdown",
      "metadata": {
        "id": "BczZv57JeY9t"
      },
      "source": [
        "# EDA & Featurizing"
      ]
    },
    {
      "cell_type": "code",
      "metadata": {
        "id": "Dam-i2LlLC8H"
      },
      "source": [
        "import pandas as pd\n",
        "train=pd.read_csv(\"/content/train_MpHjUjU.csv\")\n",
        "test=pd.read_csv(\"/content/test_hXY9mYw.csv\")\n",
        "sample=pd.read_csv(\"/content/sample_submission_znWiLZ4.csv\")"
      ],
      "execution_count": 1,
      "outputs": []
    },
    {
      "cell_type": "code",
      "metadata": {
        "colab": {
          "base_uri": "https://localhost:8080/",
          "height": 321
        },
        "id": "-QDlhxkDLveq",
        "outputId": "cd503fc7-60ae-4fb6-8d70-b4bb7a5919e0"
      },
      "source": [
        "train.head(5)"
      ],
      "execution_count": 2,
      "outputs": [
        {
          "output_type": "execute_result",
          "data": {
            "text/html": [
              "<div>\n",
              "<style scoped>\n",
              "    .dataframe tbody tr th:only-of-type {\n",
              "        vertical-align: middle;\n",
              "    }\n",
              "\n",
              "    .dataframe tbody tr th {\n",
              "        vertical-align: top;\n",
              "    }\n",
              "\n",
              "    .dataframe thead th {\n",
              "        text-align: right;\n",
              "    }\n",
              "</style>\n",
              "<table border=\"1\" class=\"dataframe\">\n",
              "  <thead>\n",
              "    <tr style=\"text-align: right;\">\n",
              "      <th></th>\n",
              "      <th>MMM-YY</th>\n",
              "      <th>Emp_ID</th>\n",
              "      <th>Age</th>\n",
              "      <th>Gender</th>\n",
              "      <th>City</th>\n",
              "      <th>Education_Level</th>\n",
              "      <th>Salary</th>\n",
              "      <th>Dateofjoining</th>\n",
              "      <th>LastWorkingDate</th>\n",
              "      <th>Joining Designation</th>\n",
              "      <th>Designation</th>\n",
              "      <th>Total Business Value</th>\n",
              "      <th>Quarterly Rating</th>\n",
              "    </tr>\n",
              "  </thead>\n",
              "  <tbody>\n",
              "    <tr>\n",
              "      <th>0</th>\n",
              "      <td>2016-01-01</td>\n",
              "      <td>1</td>\n",
              "      <td>28</td>\n",
              "      <td>Male</td>\n",
              "      <td>C23</td>\n",
              "      <td>Master</td>\n",
              "      <td>57387</td>\n",
              "      <td>2015-12-24</td>\n",
              "      <td>NaN</td>\n",
              "      <td>1</td>\n",
              "      <td>1</td>\n",
              "      <td>2381060</td>\n",
              "      <td>2</td>\n",
              "    </tr>\n",
              "    <tr>\n",
              "      <th>1</th>\n",
              "      <td>2016-02-01</td>\n",
              "      <td>1</td>\n",
              "      <td>28</td>\n",
              "      <td>Male</td>\n",
              "      <td>C23</td>\n",
              "      <td>Master</td>\n",
              "      <td>57387</td>\n",
              "      <td>2015-12-24</td>\n",
              "      <td>NaN</td>\n",
              "      <td>1</td>\n",
              "      <td>1</td>\n",
              "      <td>-665480</td>\n",
              "      <td>2</td>\n",
              "    </tr>\n",
              "    <tr>\n",
              "      <th>2</th>\n",
              "      <td>2016-03-01</td>\n",
              "      <td>1</td>\n",
              "      <td>28</td>\n",
              "      <td>Male</td>\n",
              "      <td>C23</td>\n",
              "      <td>Master</td>\n",
              "      <td>57387</td>\n",
              "      <td>2015-12-24</td>\n",
              "      <td>2016-03-11</td>\n",
              "      <td>1</td>\n",
              "      <td>1</td>\n",
              "      <td>0</td>\n",
              "      <td>2</td>\n",
              "    </tr>\n",
              "    <tr>\n",
              "      <th>3</th>\n",
              "      <td>2017-11-01</td>\n",
              "      <td>2</td>\n",
              "      <td>31</td>\n",
              "      <td>Male</td>\n",
              "      <td>C7</td>\n",
              "      <td>Master</td>\n",
              "      <td>67016</td>\n",
              "      <td>2017-11-06</td>\n",
              "      <td>NaN</td>\n",
              "      <td>2</td>\n",
              "      <td>2</td>\n",
              "      <td>0</td>\n",
              "      <td>1</td>\n",
              "    </tr>\n",
              "    <tr>\n",
              "      <th>4</th>\n",
              "      <td>2017-12-01</td>\n",
              "      <td>2</td>\n",
              "      <td>31</td>\n",
              "      <td>Male</td>\n",
              "      <td>C7</td>\n",
              "      <td>Master</td>\n",
              "      <td>67016</td>\n",
              "      <td>2017-11-06</td>\n",
              "      <td>NaN</td>\n",
              "      <td>2</td>\n",
              "      <td>2</td>\n",
              "      <td>0</td>\n",
              "      <td>1</td>\n",
              "    </tr>\n",
              "  </tbody>\n",
              "</table>\n",
              "</div>"
            ],
            "text/plain": [
              "       MMM-YY  Emp_ID  Age  ... Designation Total Business Value Quarterly Rating\n",
              "0  2016-01-01       1   28  ...           1              2381060                2\n",
              "1  2016-02-01       1   28  ...           1              -665480                2\n",
              "2  2016-03-01       1   28  ...           1                    0                2\n",
              "3  2017-11-01       2   31  ...           2                    0                1\n",
              "4  2017-12-01       2   31  ...           2                    0                1\n",
              "\n",
              "[5 rows x 13 columns]"
            ]
          },
          "metadata": {},
          "execution_count": 2
        }
      ]
    },
    {
      "cell_type": "code",
      "metadata": {
        "id": "iY7zsQQFLzSj"
      },
      "source": [
        "train['MMM-YY']=pd.to_datetime(train['MMM-YY'],format=\"%Y/%m/%d\")\n",
        "train.Dateofjoining=pd.to_datetime(train.Dateofjoining,format=\"%Y/%m/%d\")\n",
        "train.LastWorkingDate=pd.to_datetime(train.LastWorkingDate,format=\"%Y/%m/%d\")"
      ],
      "execution_count": 3,
      "outputs": []
    },
    {
      "cell_type": "code",
      "metadata": {
        "id": "_FTngiD2UpBG"
      },
      "source": [
        "train.rename(columns = {'MMM-YY':'Reporting_date'}, inplace = True)"
      ],
      "execution_count": 10,
      "outputs": []
    },
    {
      "cell_type": "code",
      "metadata": {
        "id": "_LtsOC2TSvUv"
      },
      "source": [
        "X=train"
      ],
      "execution_count": 16,
      "outputs": []
    },
    {
      "cell_type": "code",
      "metadata": {
        "id": "9AtRUcOCMjXR"
      },
      "source": [
        "import datetime\n",
        "target=[]\n",
        "train_group=train.groupby(by='Emp_ID')\n",
        "ind=0\n",
        "for key, item in train_group:\n",
        "  group=train_group.get_group(key)\n",
        "  last_work_date=group.LastWorkingDate.iloc[-1]\n",
        "  left=1\n",
        "  if(len(str(last_work_date))==3): \n",
        "    left=0\n",
        "  if(left==1):\n",
        "    for i in range(len(group)):\n",
        "      current_date=group.Reporting_date.iloc[i]\n",
        "      if((last_work_date-current_date)<=datetime.timedelta(180)):\n",
        "        target.append(1)\n",
        "      else:\n",
        "        target.append(0)\n",
        "      ind+=1\n",
        "  else:\n",
        "    last_report_date=group.Reporting_date.iloc[-1]\n",
        "    for i in range(len(group)):\n",
        "      current_date=group.Reporting_date.iloc[i]\n",
        "      if((last_report_date-current_date)>=datetime.timedelta(180)):\n",
        "        target.append(0)  \n",
        "      else:\n",
        "        X=X.drop(ind)  \n",
        "      ind+=1"
      ],
      "execution_count": 21,
      "outputs": []
    },
    {
      "cell_type": "code",
      "metadata": {
        "colab": {
          "base_uri": "https://localhost:8080/"
        },
        "id": "cVyr_eDkVG2q",
        "outputId": "a40c9064-5826-4319-cf48-9ee89e4ba808"
      },
      "source": [
        "X.shape,len(target)"
      ],
      "execution_count": 23,
      "outputs": [
        {
          "output_type": "execute_result",
          "data": {
            "text/plain": [
              "((15467, 13), 15467)"
            ]
          },
          "metadata": {},
          "execution_count": 23
        }
      ]
    },
    {
      "cell_type": "code",
      "metadata": {
        "colab": {
          "base_uri": "https://localhost:8080/",
          "height": 237
        },
        "id": "1otFs01fWNm2",
        "outputId": "94f257e8-6bb4-40ac-c7e1-8d686881735e"
      },
      "source": [
        "X.head(5)"
      ],
      "execution_count": 25,
      "outputs": [
        {
          "output_type": "execute_result",
          "data": {
            "text/html": [
              "<div>\n",
              "<style scoped>\n",
              "    .dataframe tbody tr th:only-of-type {\n",
              "        vertical-align: middle;\n",
              "    }\n",
              "\n",
              "    .dataframe tbody tr th {\n",
              "        vertical-align: top;\n",
              "    }\n",
              "\n",
              "    .dataframe thead th {\n",
              "        text-align: right;\n",
              "    }\n",
              "</style>\n",
              "<table border=\"1\" class=\"dataframe\">\n",
              "  <thead>\n",
              "    <tr style=\"text-align: right;\">\n",
              "      <th></th>\n",
              "      <th>Reporting_date</th>\n",
              "      <th>Emp_ID</th>\n",
              "      <th>Age</th>\n",
              "      <th>Gender</th>\n",
              "      <th>City</th>\n",
              "      <th>Education_Level</th>\n",
              "      <th>Salary</th>\n",
              "      <th>Dateofjoining</th>\n",
              "      <th>LastWorkingDate</th>\n",
              "      <th>Joining Designation</th>\n",
              "      <th>Designation</th>\n",
              "      <th>Total Business Value</th>\n",
              "      <th>Quarterly Rating</th>\n",
              "    </tr>\n",
              "  </thead>\n",
              "  <tbody>\n",
              "    <tr>\n",
              "      <th>0</th>\n",
              "      <td>2016-01-01</td>\n",
              "      <td>1</td>\n",
              "      <td>28</td>\n",
              "      <td>Male</td>\n",
              "      <td>C23</td>\n",
              "      <td>Master</td>\n",
              "      <td>57387</td>\n",
              "      <td>2015-12-24</td>\n",
              "      <td>NaT</td>\n",
              "      <td>1</td>\n",
              "      <td>1</td>\n",
              "      <td>2381060</td>\n",
              "      <td>2</td>\n",
              "    </tr>\n",
              "    <tr>\n",
              "      <th>1</th>\n",
              "      <td>2016-02-01</td>\n",
              "      <td>1</td>\n",
              "      <td>28</td>\n",
              "      <td>Male</td>\n",
              "      <td>C23</td>\n",
              "      <td>Master</td>\n",
              "      <td>57387</td>\n",
              "      <td>2015-12-24</td>\n",
              "      <td>NaT</td>\n",
              "      <td>1</td>\n",
              "      <td>1</td>\n",
              "      <td>-665480</td>\n",
              "      <td>2</td>\n",
              "    </tr>\n",
              "    <tr>\n",
              "      <th>2</th>\n",
              "      <td>2016-03-01</td>\n",
              "      <td>1</td>\n",
              "      <td>28</td>\n",
              "      <td>Male</td>\n",
              "      <td>C23</td>\n",
              "      <td>Master</td>\n",
              "      <td>57387</td>\n",
              "      <td>2015-12-24</td>\n",
              "      <td>2016-03-11</td>\n",
              "      <td>1</td>\n",
              "      <td>1</td>\n",
              "      <td>0</td>\n",
              "      <td>2</td>\n",
              "    </tr>\n",
              "    <tr>\n",
              "      <th>5</th>\n",
              "      <td>2016-12-01</td>\n",
              "      <td>4</td>\n",
              "      <td>43</td>\n",
              "      <td>Male</td>\n",
              "      <td>C13</td>\n",
              "      <td>Master</td>\n",
              "      <td>65603</td>\n",
              "      <td>2016-12-07</td>\n",
              "      <td>NaT</td>\n",
              "      <td>2</td>\n",
              "      <td>2</td>\n",
              "      <td>0</td>\n",
              "      <td>1</td>\n",
              "    </tr>\n",
              "    <tr>\n",
              "      <th>6</th>\n",
              "      <td>2017-01-01</td>\n",
              "      <td>4</td>\n",
              "      <td>43</td>\n",
              "      <td>Male</td>\n",
              "      <td>C13</td>\n",
              "      <td>Master</td>\n",
              "      <td>65603</td>\n",
              "      <td>2016-12-07</td>\n",
              "      <td>NaT</td>\n",
              "      <td>2</td>\n",
              "      <td>2</td>\n",
              "      <td>0</td>\n",
              "      <td>1</td>\n",
              "    </tr>\n",
              "  </tbody>\n",
              "</table>\n",
              "</div>"
            ],
            "text/plain": [
              "  Reporting_date  Emp_ID  ...  Total Business Value Quarterly Rating\n",
              "0     2016-01-01       1  ...               2381060                2\n",
              "1     2016-02-01       1  ...               -665480                2\n",
              "2     2016-03-01       1  ...                     0                2\n",
              "5     2016-12-01       4  ...                     0                1\n",
              "6     2017-01-01       4  ...                     0                1\n",
              "\n",
              "[5 rows x 13 columns]"
            ]
          },
          "metadata": {},
          "execution_count": 25
        }
      ]
    },
    {
      "cell_type": "code",
      "metadata": {
        "colab": {
          "base_uri": "https://localhost:8080/"
        },
        "id": "UFXMO7DaXp1M",
        "outputId": "e2e3c540-3644-42d9-b403-63273354e593"
      },
      "source": [
        "days_in_company=X.Reporting_date-X.Dateofjoining\n",
        "len(days_in_company)"
      ],
      "execution_count": 28,
      "outputs": [
        {
          "output_type": "execute_result",
          "data": {
            "text/plain": [
              "15467"
            ]
          },
          "metadata": {},
          "execution_count": 28
        }
      ]
    },
    {
      "cell_type": "code",
      "metadata": {
        "id": "HdG0FyMXZyu8"
      },
      "source": [
        "experience=[]\n",
        "for i in days_in_company:\n",
        "  experience.append(int(str(i).split(' ')[0]))"
      ],
      "execution_count": 33,
      "outputs": []
    },
    {
      "cell_type": "code",
      "metadata": {
        "id": "kA4hZAjebIk8"
      },
      "source": [
        "X['Experience']=experience"
      ],
      "execution_count": 36,
      "outputs": []
    },
    {
      "cell_type": "code",
      "metadata": {
        "id": "GUQBvjribSr-"
      },
      "source": [
        "from sklearn.preprocessing import LabelEncoder\n",
        "\n",
        "gender_enc=LabelEncoder()\n",
        "gender_enc.fit(X.Gender)\n",
        "X['Gender_Encoded']=gender_enc.transform(X.Gender)\n",
        "\n",
        "city_enc=LabelEncoder()\n",
        "city_enc.fit(X.City)\n",
        "X['City_Encoded']=city_enc.transform(X.City)\n",
        "\n",
        "edu_enc=LabelEncoder()\n",
        "edu_enc.fit(X.Education_Level)\n",
        "X['Education_Encoded']=edu_enc.transform(X.Education_Level)"
      ],
      "execution_count": 37,
      "outputs": []
    },
    {
      "cell_type": "code",
      "metadata": {
        "colab": {
          "base_uri": "https://localhost:8080/",
          "height": 434
        },
        "id": "NjBNRTgbcx9j",
        "outputId": "53ece60b-d1b5-44b2-9b28-709cb74a21ef"
      },
      "source": [
        "X_new=X[['Age','Gender_Encoded','City_Encoded','Education_Encoded','Salary','Joining Designation','Designation','Total Business Value','Quarterly Rating','Experience']]\n",
        "X_new"
      ],
      "execution_count": 42,
      "outputs": [
        {
          "output_type": "execute_result",
          "data": {
            "text/html": [
              "<div>\n",
              "<style scoped>\n",
              "    .dataframe tbody tr th:only-of-type {\n",
              "        vertical-align: middle;\n",
              "    }\n",
              "\n",
              "    .dataframe tbody tr th {\n",
              "        vertical-align: top;\n",
              "    }\n",
              "\n",
              "    .dataframe thead th {\n",
              "        text-align: right;\n",
              "    }\n",
              "</style>\n",
              "<table border=\"1\" class=\"dataframe\">\n",
              "  <thead>\n",
              "    <tr style=\"text-align: right;\">\n",
              "      <th></th>\n",
              "      <th>Age</th>\n",
              "      <th>Gender_Encoded</th>\n",
              "      <th>City_Encoded</th>\n",
              "      <th>Education_Encoded</th>\n",
              "      <th>Salary</th>\n",
              "      <th>Joining Designation</th>\n",
              "      <th>Designation</th>\n",
              "      <th>Total Business Value</th>\n",
              "      <th>Quarterly Rating</th>\n",
              "      <th>Experience</th>\n",
              "    </tr>\n",
              "  </thead>\n",
              "  <tbody>\n",
              "    <tr>\n",
              "      <th>0</th>\n",
              "      <td>28</td>\n",
              "      <td>1</td>\n",
              "      <td>15</td>\n",
              "      <td>2</td>\n",
              "      <td>57387</td>\n",
              "      <td>1</td>\n",
              "      <td>1</td>\n",
              "      <td>2381060</td>\n",
              "      <td>2</td>\n",
              "      <td>8</td>\n",
              "    </tr>\n",
              "    <tr>\n",
              "      <th>1</th>\n",
              "      <td>28</td>\n",
              "      <td>1</td>\n",
              "      <td>15</td>\n",
              "      <td>2</td>\n",
              "      <td>57387</td>\n",
              "      <td>1</td>\n",
              "      <td>1</td>\n",
              "      <td>-665480</td>\n",
              "      <td>2</td>\n",
              "      <td>39</td>\n",
              "    </tr>\n",
              "    <tr>\n",
              "      <th>2</th>\n",
              "      <td>28</td>\n",
              "      <td>1</td>\n",
              "      <td>15</td>\n",
              "      <td>2</td>\n",
              "      <td>57387</td>\n",
              "      <td>1</td>\n",
              "      <td>1</td>\n",
              "      <td>0</td>\n",
              "      <td>2</td>\n",
              "      <td>68</td>\n",
              "    </tr>\n",
              "    <tr>\n",
              "      <th>5</th>\n",
              "      <td>43</td>\n",
              "      <td>1</td>\n",
              "      <td>4</td>\n",
              "      <td>2</td>\n",
              "      <td>65603</td>\n",
              "      <td>2</td>\n",
              "      <td>2</td>\n",
              "      <td>0</td>\n",
              "      <td>1</td>\n",
              "      <td>-6</td>\n",
              "    </tr>\n",
              "    <tr>\n",
              "      <th>6</th>\n",
              "      <td>43</td>\n",
              "      <td>1</td>\n",
              "      <td>4</td>\n",
              "      <td>2</td>\n",
              "      <td>65603</td>\n",
              "      <td>2</td>\n",
              "      <td>2</td>\n",
              "      <td>0</td>\n",
              "      <td>1</td>\n",
              "      <td>25</td>\n",
              "    </tr>\n",
              "    <tr>\n",
              "      <th>...</th>\n",
              "      <td>...</td>\n",
              "      <td>...</td>\n",
              "      <td>...</td>\n",
              "      <td>...</td>\n",
              "      <td>...</td>\n",
              "      <td>...</td>\n",
              "      <td>...</td>\n",
              "      <td>...</td>\n",
              "      <td>...</td>\n",
              "      <td>...</td>\n",
              "    </tr>\n",
              "    <tr>\n",
              "      <th>19093</th>\n",
              "      <td>28</td>\n",
              "      <td>0</td>\n",
              "      <td>12</td>\n",
              "      <td>2</td>\n",
              "      <td>69498</td>\n",
              "      <td>1</td>\n",
              "      <td>1</td>\n",
              "      <td>319740</td>\n",
              "      <td>2</td>\n",
              "      <td>224</td>\n",
              "    </tr>\n",
              "    <tr>\n",
              "      <th>19094</th>\n",
              "      <td>28</td>\n",
              "      <td>0</td>\n",
              "      <td>12</td>\n",
              "      <td>2</td>\n",
              "      <td>69498</td>\n",
              "      <td>1</td>\n",
              "      <td>1</td>\n",
              "      <td>0</td>\n",
              "      <td>1</td>\n",
              "      <td>255</td>\n",
              "    </tr>\n",
              "    <tr>\n",
              "      <th>19095</th>\n",
              "      <td>28</td>\n",
              "      <td>0</td>\n",
              "      <td>12</td>\n",
              "      <td>2</td>\n",
              "      <td>69498</td>\n",
              "      <td>1</td>\n",
              "      <td>1</td>\n",
              "      <td>0</td>\n",
              "      <td>1</td>\n",
              "      <td>285</td>\n",
              "    </tr>\n",
              "    <tr>\n",
              "      <th>19096</th>\n",
              "      <td>28</td>\n",
              "      <td>0</td>\n",
              "      <td>12</td>\n",
              "      <td>2</td>\n",
              "      <td>69498</td>\n",
              "      <td>1</td>\n",
              "      <td>1</td>\n",
              "      <td>0</td>\n",
              "      <td>1</td>\n",
              "      <td>316</td>\n",
              "    </tr>\n",
              "    <tr>\n",
              "      <th>19097</th>\n",
              "      <td>29</td>\n",
              "      <td>1</td>\n",
              "      <td>19</td>\n",
              "      <td>2</td>\n",
              "      <td>70254</td>\n",
              "      <td>2</td>\n",
              "      <td>2</td>\n",
              "      <td>0</td>\n",
              "      <td>1</td>\n",
              "      <td>-7</td>\n",
              "    </tr>\n",
              "  </tbody>\n",
              "</table>\n",
              "<p>15467 rows × 10 columns</p>\n",
              "</div>"
            ],
            "text/plain": [
              "       Age  Gender_Encoded  ...  Quarterly Rating  Experience\n",
              "0       28               1  ...                 2           8\n",
              "1       28               1  ...                 2          39\n",
              "2       28               1  ...                 2          68\n",
              "5       43               1  ...                 1          -6\n",
              "6       43               1  ...                 1          25\n",
              "...    ...             ...  ...               ...         ...\n",
              "19093   28               0  ...                 2         224\n",
              "19094   28               0  ...                 1         255\n",
              "19095   28               0  ...                 1         285\n",
              "19096   28               0  ...                 1         316\n",
              "19097   29               1  ...                 1          -7\n",
              "\n",
              "[15467 rows x 10 columns]"
            ]
          },
          "metadata": {},
          "execution_count": 42
        }
      ]
    },
    {
      "cell_type": "code",
      "metadata": {
        "id": "ODpuK8ysdfg-"
      },
      "source": [
        "X_new.index=range(15467)"
      ],
      "execution_count": 47,
      "outputs": []
    },
    {
      "cell_type": "code",
      "metadata": {
        "id": "glV5Dy4Ody_b"
      },
      "source": [
        "x_train=X_new.iloc[:12000]\n",
        "x_test=X_new.iloc[12000:]\n",
        "y_train=target[:12000]\n",
        "y_test=target[12000:]"
      ],
      "execution_count": 49,
      "outputs": []
    },
    {
      "cell_type": "markdown",
      "metadata": {
        "id": "Pa_kn5hMeeif"
      },
      "source": [
        "#Featurizing Test Data"
      ]
    },
    {
      "cell_type": "code",
      "metadata": {
        "colab": {
          "base_uri": "https://localhost:8080/"
        },
        "id": "G5wCf4P8eh56",
        "outputId": "967352c2-aa82-4e1e-8aa6-e88731964257"
      },
      "source": [
        "test_data=train.merge(test,on='Emp_ID')\n",
        "test_data.shape"
      ],
      "execution_count": 52,
      "outputs": [
        {
          "output_type": "execute_result",
          "data": {
            "text/plain": [
              "(8588, 13)"
            ]
          },
          "metadata": {},
          "execution_count": 52
        }
      ]
    },
    {
      "cell_type": "code",
      "metadata": {
        "id": "XTlHEvZWf0j7"
      },
      "source": [
        "test_data['Gender_Encoded']=gender_enc.transform(test_data.Gender)\n",
        "test_data['City_Encoded']=city_enc.transform(test_data.City)\n",
        "test_data['Education_Encoded']=edu_enc.transform(test_data.Education_Level)"
      ],
      "execution_count": 60,
      "outputs": []
    },
    {
      "cell_type": "code",
      "metadata": {
        "colab": {
          "base_uri": "https://localhost:8080/"
        },
        "id": "QnvT5d4FgRiz",
        "outputId": "60836c2d-9167-408f-a454-6da7e41d1df9"
      },
      "source": [
        "days_in_company=test_data.Reporting_date-test_data.Dateofjoining\n",
        "experience=[]\n",
        "for i in days_in_company:\n",
        "  experience.append(int(str(i).split(' ')[0]))\n",
        "test_data['Experience']=experience\n",
        "len(experience)"
      ],
      "execution_count": 61,
      "outputs": [
        {
          "output_type": "execute_result",
          "data": {
            "text/plain": [
              "8588"
            ]
          },
          "metadata": {},
          "execution_count": 61
        }
      ]
    },
    {
      "cell_type": "code",
      "metadata": {
        "id": "so6KCj62g2wM"
      },
      "source": [
        "test_data_new=test_data[['Emp_ID','Age','Gender_Encoded','City_Encoded','Education_Encoded','Salary','Joining Designation','Designation','Total Business Value','Quarterly Rating','Experience']]"
      ],
      "execution_count": 64,
      "outputs": []
    },
    {
      "cell_type": "code",
      "metadata": {
        "id": "jK8PO6SCems6"
      },
      "source": [
        "test_group=test_data_new.groupby(by='Emp_ID')\n",
        "test_data_final=[]\n",
        "for key,value in test_group:\n",
        "  group=test_group.get_group(key)\n",
        "  test_data_final.append(group.iloc[-1])"
      ],
      "execution_count": 67,
      "outputs": []
    },
    {
      "cell_type": "code",
      "metadata": {
        "colab": {
          "base_uri": "https://localhost:8080/",
          "height": 434
        },
        "id": "Obm6yIg6iiOX",
        "outputId": "41ddf0ce-868e-4df9-b1b6-ce2a81a94451"
      },
      "source": [
        "test_data_final=pd.DataFrame(test_data_final)\n",
        "test_data_final.columns=['Emp_ID','Age','Gender_Encoded','City_Encoded','Education_Encoded','Salary','Joining Designation','Designation','Total Business Value','Quarterly Rating','Experience']\n",
        "test_data_final.drop(['Emp_ID'],axis=1,inplace=True)\n",
        "test_data_final"
      ],
      "execution_count": 70,
      "outputs": [
        {
          "output_type": "execute_result",
          "data": {
            "text/html": [
              "<div>\n",
              "<style scoped>\n",
              "    .dataframe tbody tr th:only-of-type {\n",
              "        vertical-align: middle;\n",
              "    }\n",
              "\n",
              "    .dataframe tbody tr th {\n",
              "        vertical-align: top;\n",
              "    }\n",
              "\n",
              "    .dataframe thead th {\n",
              "        text-align: right;\n",
              "    }\n",
              "</style>\n",
              "<table border=\"1\" class=\"dataframe\">\n",
              "  <thead>\n",
              "    <tr style=\"text-align: right;\">\n",
              "      <th></th>\n",
              "      <th>Age</th>\n",
              "      <th>Gender_Encoded</th>\n",
              "      <th>City_Encoded</th>\n",
              "      <th>Education_Encoded</th>\n",
              "      <th>Salary</th>\n",
              "      <th>Joining Designation</th>\n",
              "      <th>Designation</th>\n",
              "      <th>Total Business Value</th>\n",
              "      <th>Quarterly Rating</th>\n",
              "      <th>Experience</th>\n",
              "    </tr>\n",
              "  </thead>\n",
              "  <tbody>\n",
              "    <tr>\n",
              "      <th>1</th>\n",
              "      <td>31</td>\n",
              "      <td>1</td>\n",
              "      <td>26</td>\n",
              "      <td>2</td>\n",
              "      <td>67016</td>\n",
              "      <td>2</td>\n",
              "      <td>2</td>\n",
              "      <td>0</td>\n",
              "      <td>1</td>\n",
              "      <td>25</td>\n",
              "    </tr>\n",
              "    <tr>\n",
              "      <th>6</th>\n",
              "      <td>31</td>\n",
              "      <td>0</td>\n",
              "      <td>2</td>\n",
              "      <td>0</td>\n",
              "      <td>78728</td>\n",
              "      <td>3</td>\n",
              "      <td>3</td>\n",
              "      <td>0</td>\n",
              "      <td>2</td>\n",
              "      <td>123</td>\n",
              "    </tr>\n",
              "    <tr>\n",
              "      <th>7</th>\n",
              "      <td>28</td>\n",
              "      <td>0</td>\n",
              "      <td>10</td>\n",
              "      <td>2</td>\n",
              "      <td>42172</td>\n",
              "      <td>1</td>\n",
              "      <td>1</td>\n",
              "      <td>0</td>\n",
              "      <td>1</td>\n",
              "      <td>-6</td>\n",
              "    </tr>\n",
              "    <tr>\n",
              "      <th>10</th>\n",
              "      <td>39</td>\n",
              "      <td>0</td>\n",
              "      <td>18</td>\n",
              "      <td>1</td>\n",
              "      <td>19734</td>\n",
              "      <td>3</td>\n",
              "      <td>3</td>\n",
              "      <td>0</td>\n",
              "      <td>1</td>\n",
              "      <td>46</td>\n",
              "    </tr>\n",
              "    <tr>\n",
              "      <th>34</th>\n",
              "      <td>31</td>\n",
              "      <td>1</td>\n",
              "      <td>16</td>\n",
              "      <td>0</td>\n",
              "      <td>102077</td>\n",
              "      <td>1</td>\n",
              "      <td>3</td>\n",
              "      <td>2013180</td>\n",
              "      <td>4</td>\n",
              "      <td>1128</td>\n",
              "    </tr>\n",
              "    <tr>\n",
              "      <th>...</th>\n",
              "      <td>...</td>\n",
              "      <td>...</td>\n",
              "      <td>...</td>\n",
              "      <td>...</td>\n",
              "      <td>...</td>\n",
              "      <td>...</td>\n",
              "      <td>...</td>\n",
              "      <td>...</td>\n",
              "      <td>...</td>\n",
              "      <td>...</td>\n",
              "    </tr>\n",
              "    <tr>\n",
              "      <th>8544</th>\n",
              "      <td>27</td>\n",
              "      <td>1</td>\n",
              "      <td>28</td>\n",
              "      <td>1</td>\n",
              "      <td>85112</td>\n",
              "      <td>3</td>\n",
              "      <td>3</td>\n",
              "      <td>0</td>\n",
              "      <td>1</td>\n",
              "      <td>60</td>\n",
              "    </tr>\n",
              "    <tr>\n",
              "      <th>8545</th>\n",
              "      <td>35</td>\n",
              "      <td>1</td>\n",
              "      <td>4</td>\n",
              "      <td>2</td>\n",
              "      <td>50180</td>\n",
              "      <td>2</td>\n",
              "      <td>2</td>\n",
              "      <td>0</td>\n",
              "      <td>1</td>\n",
              "      <td>2</td>\n",
              "    </tr>\n",
              "    <tr>\n",
              "      <th>8556</th>\n",
              "      <td>25</td>\n",
              "      <td>1</td>\n",
              "      <td>15</td>\n",
              "      <td>2</td>\n",
              "      <td>46952</td>\n",
              "      <td>2</td>\n",
              "      <td>2</td>\n",
              "      <td>2366500</td>\n",
              "      <td>4</td>\n",
              "      <td>287</td>\n",
              "    </tr>\n",
              "    <tr>\n",
              "      <th>8580</th>\n",
              "      <td>34</td>\n",
              "      <td>1</td>\n",
              "      <td>16</td>\n",
              "      <td>1</td>\n",
              "      <td>82815</td>\n",
              "      <td>2</td>\n",
              "      <td>3</td>\n",
              "      <td>505480</td>\n",
              "      <td>4</td>\n",
              "      <td>1873</td>\n",
              "    </tr>\n",
              "    <tr>\n",
              "      <th>8587</th>\n",
              "      <td>30</td>\n",
              "      <td>1</td>\n",
              "      <td>19</td>\n",
              "      <td>2</td>\n",
              "      <td>70254</td>\n",
              "      <td>2</td>\n",
              "      <td>2</td>\n",
              "      <td>411480</td>\n",
              "      <td>2</td>\n",
              "      <td>176</td>\n",
              "    </tr>\n",
              "  </tbody>\n",
              "</table>\n",
              "<p>741 rows × 10 columns</p>\n",
              "</div>"
            ],
            "text/plain": [
              "      Age  Gender_Encoded  ...  Quarterly Rating  Experience\n",
              "1      31               1  ...                 1          25\n",
              "6      31               0  ...                 2         123\n",
              "7      28               0  ...                 1          -6\n",
              "10     39               0  ...                 1          46\n",
              "34     31               1  ...                 4        1128\n",
              "...   ...             ...  ...               ...         ...\n",
              "8544   27               1  ...                 1          60\n",
              "8545   35               1  ...                 1           2\n",
              "8556   25               1  ...                 4         287\n",
              "8580   34               1  ...                 4        1873\n",
              "8587   30               1  ...                 2         176\n",
              "\n",
              "[741 rows x 10 columns]"
            ]
          },
          "metadata": {},
          "execution_count": 70
        }
      ]
    },
    {
      "cell_type": "markdown",
      "metadata": {
        "id": "-MbCvpUsjG-8"
      },
      "source": [
        "# Modelling - Random Forest Classifier"
      ]
    },
    {
      "cell_type": "code",
      "metadata": {
        "id": "0jNgWiR_jBMq"
      },
      "source": [
        "from sklearn.ensemble import RandomForestClassifier\n",
        "from sklearn.metrics import f1_score\n",
        "n_estimator=[20,50,100,200]\n",
        "depth=[5,20,50,100]\n",
        "max_f1=0\n",
        "best=(0,0)\n",
        "for i in n_estimator:\n",
        "  for j in depth:\n",
        "    clf=RandomForestClassifier(max_depth=j,n_estimators=i)\n",
        "    clf.fit(x_train,y_train)\n",
        "    f1=f1_score(y_test,clf.predict(x_test))\n",
        "    print(i,j,f1)\n",
        "    if(max_f1<f1):\n",
        "      max_f1=f1\n",
        "      best=(i,j)\n",
        "print(max_f1,best)"
      ],
      "execution_count": null,
      "outputs": []
    },
    {
      "cell_type": "code",
      "metadata": {
        "id": "hB0O576amqvL"
      },
      "source": [
        "clf=RandomForestClassifier(max_depth=100,n_estimators=200)\n",
        "clf.fit(X_new,target)\n",
        "final_pred=clf.predict(test_data_final) "
      ],
      "execution_count": 80,
      "outputs": []
    },
    {
      "cell_type": "code",
      "metadata": {
        "colab": {
          "base_uri": "https://localhost:8080/",
          "height": 417
        },
        "id": "fWXe_VUhnX_W",
        "outputId": "d56b8e84-2eca-4e23-e03d-6675d90004b0"
      },
      "source": [
        "test['Target']=final_pred\n",
        "test"
      ],
      "execution_count": 82,
      "outputs": [
        {
          "output_type": "execute_result",
          "data": {
            "text/html": [
              "<div>\n",
              "<style scoped>\n",
              "    .dataframe tbody tr th:only-of-type {\n",
              "        vertical-align: middle;\n",
              "    }\n",
              "\n",
              "    .dataframe tbody tr th {\n",
              "        vertical-align: top;\n",
              "    }\n",
              "\n",
              "    .dataframe thead th {\n",
              "        text-align: right;\n",
              "    }\n",
              "</style>\n",
              "<table border=\"1\" class=\"dataframe\">\n",
              "  <thead>\n",
              "    <tr style=\"text-align: right;\">\n",
              "      <th></th>\n",
              "      <th>Emp_ID</th>\n",
              "      <th>Target</th>\n",
              "    </tr>\n",
              "  </thead>\n",
              "  <tbody>\n",
              "    <tr>\n",
              "      <th>0</th>\n",
              "      <td>394</td>\n",
              "      <td>1</td>\n",
              "    </tr>\n",
              "    <tr>\n",
              "      <th>1</th>\n",
              "      <td>173</td>\n",
              "      <td>0</td>\n",
              "    </tr>\n",
              "    <tr>\n",
              "      <th>2</th>\n",
              "      <td>1090</td>\n",
              "      <td>1</td>\n",
              "    </tr>\n",
              "    <tr>\n",
              "      <th>3</th>\n",
              "      <td>840</td>\n",
              "      <td>1</td>\n",
              "    </tr>\n",
              "    <tr>\n",
              "      <th>4</th>\n",
              "      <td>308</td>\n",
              "      <td>0</td>\n",
              "    </tr>\n",
              "    <tr>\n",
              "      <th>...</th>\n",
              "      <td>...</td>\n",
              "      <td>...</td>\n",
              "    </tr>\n",
              "    <tr>\n",
              "      <th>736</th>\n",
              "      <td>2134</td>\n",
              "      <td>1</td>\n",
              "    </tr>\n",
              "    <tr>\n",
              "      <th>737</th>\n",
              "      <td>2255</td>\n",
              "      <td>1</td>\n",
              "    </tr>\n",
              "    <tr>\n",
              "      <th>738</th>\n",
              "      <td>448</td>\n",
              "      <td>0</td>\n",
              "    </tr>\n",
              "    <tr>\n",
              "      <th>739</th>\n",
              "      <td>1644</td>\n",
              "      <td>0</td>\n",
              "    </tr>\n",
              "    <tr>\n",
              "      <th>740</th>\n",
              "      <td>624</td>\n",
              "      <td>0</td>\n",
              "    </tr>\n",
              "  </tbody>\n",
              "</table>\n",
              "<p>741 rows × 2 columns</p>\n",
              "</div>"
            ],
            "text/plain": [
              "     Emp_ID  Target\n",
              "0       394       1\n",
              "1       173       0\n",
              "2      1090       1\n",
              "3       840       1\n",
              "4       308       0\n",
              "..      ...     ...\n",
              "736    2134       1\n",
              "737    2255       1\n",
              "738     448       0\n",
              "739    1644       0\n",
              "740     624       0\n",
              "\n",
              "[741 rows x 2 columns]"
            ]
          },
          "metadata": {},
          "execution_count": 82
        }
      ]
    },
    {
      "cell_type": "code",
      "metadata": {
        "id": "zXePDvHInk0M"
      },
      "source": [
        "test.to_csv('finalpred1.csv',index=False)"
      ],
      "execution_count": 83,
      "outputs": []
    },
    {
      "cell_type": "markdown",
      "metadata": {
        "id": "93Ew3W92oVYQ"
      },
      "source": [
        "# Modelling- Neural Network"
      ]
    },
    {
      "cell_type": "code",
      "metadata": {
        "id": "WqTa3LKHpRpE"
      },
      "source": [
        "from keras import backend as K\n",
        "def recall_m(y_true, y_pred):\n",
        "    true_positives = K.sum(K.round(K.clip(y_true * y_pred, 0, 1)))\n",
        "    possible_positives = K.sum(K.round(K.clip(y_true, 0, 1)))\n",
        "    recall = true_positives / (possible_positives + K.epsilon())\n",
        "    return recall\n",
        "\n",
        "def precision_m(y_true, y_pred):\n",
        "    true_positives = K.sum(K.round(K.clip(y_true * y_pred, 0, 1)))\n",
        "    predicted_positives = K.sum(K.round(K.clip(y_pred, 0, 1)))\n",
        "    precision = true_positives / (predicted_positives + K.epsilon())\n",
        "    return precision\n",
        "def f1_m(y_true, y_pred):\n",
        "    precision = precision_m(y_true, y_pred)\n",
        "    recall = recall_m(y_true, y_pred)\n",
        "    return 2*((precision*recall)/(precision+recall+K.epsilon()))"
      ],
      "execution_count": 92,
      "outputs": []
    },
    {
      "cell_type": "code",
      "metadata": {
        "colab": {
          "base_uri": "https://localhost:8080/"
        },
        "id": "QplfZJXnoX6B",
        "outputId": "874d0ad7-0530-4f2e-8653-a97d57b617b1"
      },
      "source": [
        "import tensorflow as tf\n",
        "from tensorflow.keras import datasets, layers, models\n",
        "from keras.layers import Dense\n",
        "from keras.layers import Conv1D\n",
        "from keras.layers import MaxPooling1D\n",
        "from keras.preprocessing import sequence\n",
        "import numpy as np\n",
        "from keras.layers import Activation, Flatten, Dropout, Input, Concatenate\n",
        "from keras import regularizers, optimizers\n",
        "from tensorflow.keras import regularizers\n",
        "from tensorflow.keras.models import Model\n",
        "from keras.layers.embeddings import Embedding\n",
        "\n",
        "input_layer = Input(shape=(12))\n",
        "conv_1= Dense(64, activation='relu',kernel_initializer='he_normal')(input_layer)\n",
        "conv_2= Dense(32, activation='relu',kernel_initializer='he_normal')(conv_1)\n",
        "output_layer = Dense(units=1,activation='sigmoid')(conv_2)  \n",
        "model = Model(input_layer, output_layer)\n",
        "model.compile(optimizer='adam',loss='binary_crossentropy',metrics=[f1_m])\n",
        "model.summary()"
      ],
      "execution_count": 221,
      "outputs": [
        {
          "output_type": "stream",
          "name": "stdout",
          "text": [
            "Model: \"model_13\"\n",
            "_________________________________________________________________\n",
            " Layer (type)                Output Shape              Param #   \n",
            "=================================================================\n",
            " input_14 (InputLayer)       [(None, 12)]              0         \n",
            "                                                                 \n",
            " dense_39 (Dense)            (None, 64)                832       \n",
            "                                                                 \n",
            " dense_40 (Dense)            (None, 32)                2080      \n",
            "                                                                 \n",
            " dense_41 (Dense)            (None, 1)                 33        \n",
            "                                                                 \n",
            "=================================================================\n",
            "Total params: 2,945\n",
            "Trainable params: 2,945\n",
            "Non-trainable params: 0\n",
            "_________________________________________________________________\n"
          ]
        }
      ]
    },
    {
      "cell_type": "code",
      "metadata": {
        "colab": {
          "base_uri": "https://localhost:8080/"
        },
        "id": "zRFnGVRwpcQV",
        "outputId": "44f6c3a3-8ba5-4800-b981-84025b0a03ea"
      },
      "source": [
        "len(X_new),len(target)"
      ],
      "execution_count": 110,
      "outputs": [
        {
          "output_type": "execute_result",
          "data": {
            "text/plain": [
              "(15467, 15467)"
            ]
          },
          "metadata": {},
          "execution_count": 110
        }
      ]
    },
    {
      "cell_type": "code",
      "metadata": {
        "colab": {
          "base_uri": "https://localhost:8080/"
        },
        "id": "gLR6e4R0rXpd",
        "outputId": "3989f79f-703c-4436-94ec-d8b6c01f94ec"
      },
      "source": [
        "from sklearn.model_selection import train_test_split\n",
        "x_train,x_test,y_train,y_test=train_test_split(X_new,target,test_size=0.30,stratify=target)\n",
        "print(x_train.shape)"
      ],
      "execution_count": 111,
      "outputs": [
        {
          "output_type": "stream",
          "name": "stdout",
          "text": [
            "(10826, 10)\n"
          ]
        }
      ]
    },
    {
      "cell_type": "code",
      "metadata": {
        "id": "nStRGtnqsOVe"
      },
      "source": [
        "x_train=np.array(x_train)\n",
        "y_train=np.array(y_train)\n",
        "x_test=np.array(x_test)\n",
        "y_test=np.array(y_test)"
      ],
      "execution_count": 112,
      "outputs": []
    },
    {
      "cell_type": "code",
      "metadata": {
        "colab": {
          "base_uri": "https://localhost:8080/"
        },
        "id": "kaa86gG7qKlk",
        "outputId": "0cbc118d-b118-4aae-f534-2ae6b4c248be"
      },
      "source": [
        "model.fit(x_train,y_train,epochs=80,validation_data=(x_test,y_test),verbose=2)"
      ],
      "execution_count": 120,
      "outputs": [
        {
          "output_type": "stream",
          "name": "stdout",
          "text": [
            "Epoch 1/80\n",
            "339/339 - 1s - loss: 5999.8018 - f1_m: 0.5140 - val_loss: 1097.4717 - val_f1_m: 0.6314 - 1s/epoch - 4ms/step\n",
            "Epoch 2/80\n",
            "339/339 - 1s - loss: 1127.2146 - f1_m: 0.4957 - val_loss: 394.3604 - val_f1_m: 0.6440 - 788ms/epoch - 2ms/step\n",
            "Epoch 3/80\n",
            "339/339 - 1s - loss: 1164.2487 - f1_m: 0.4988 - val_loss: 871.1063 - val_f1_m: 0.6531 - 790ms/epoch - 2ms/step\n",
            "Epoch 4/80\n",
            "339/339 - 1s - loss: 900.9874 - f1_m: 0.5087 - val_loss: 842.4277 - val_f1_m: 0.6863 - 609ms/epoch - 2ms/step\n",
            "Epoch 5/80\n",
            "339/339 - 1s - loss: 889.9233 - f1_m: 0.5083 - val_loss: 850.9545 - val_f1_m: 0.6120 - 621ms/epoch - 2ms/step\n",
            "Epoch 6/80\n",
            "339/339 - 1s - loss: 980.7723 - f1_m: 0.5084 - val_loss: 482.5494 - val_f1_m: 0.6732 - 783ms/epoch - 2ms/step\n",
            "Epoch 7/80\n",
            "339/339 - 1s - loss: 630.7247 - f1_m: 0.5147 - val_loss: 1820.6921 - val_f1_m: 0.3692 - 613ms/epoch - 2ms/step\n",
            "Epoch 8/80\n",
            "339/339 - 1s - loss: 793.0920 - f1_m: 0.5100 - val_loss: 268.1395 - val_f1_m: 0.5958 - 620ms/epoch - 2ms/step\n",
            "Epoch 9/80\n",
            "339/339 - 1s - loss: 787.1738 - f1_m: 0.5188 - val_loss: 320.8692 - val_f1_m: 0.6782 - 625ms/epoch - 2ms/step\n",
            "Epoch 10/80\n",
            "339/339 - 1s - loss: 683.6396 - f1_m: 0.5178 - val_loss: 442.0400 - val_f1_m: 0.0420 - 612ms/epoch - 2ms/step\n",
            "Epoch 11/80\n",
            "339/339 - 1s - loss: 633.4481 - f1_m: 0.5093 - val_loss: 974.5998 - val_f1_m: 0.6341 - 620ms/epoch - 2ms/step\n",
            "Epoch 12/80\n",
            "339/339 - 1s - loss: 921.7168 - f1_m: 0.5229 - val_loss: 1570.3806 - val_f1_m: 0.6529 - 626ms/epoch - 2ms/step\n",
            "Epoch 13/80\n",
            "339/339 - 1s - loss: 538.1719 - f1_m: 0.5229 - val_loss: 270.9948 - val_f1_m: 0.6597 - 790ms/epoch - 2ms/step\n",
            "Epoch 14/80\n",
            "339/339 - 1s - loss: 638.3806 - f1_m: 0.4998 - val_loss: 1055.6620 - val_f1_m: 0.6315 - 787ms/epoch - 2ms/step\n",
            "Epoch 15/80\n",
            "339/339 - 1s - loss: 770.3765 - f1_m: 0.4976 - val_loss: 640.0037 - val_f1_m: 0.6348 - 623ms/epoch - 2ms/step\n",
            "Epoch 16/80\n",
            "339/339 - 1s - loss: 418.5918 - f1_m: 0.5288 - val_loss: 119.1879 - val_f1_m: 0.6943 - 619ms/epoch - 2ms/step\n",
            "Epoch 17/80\n",
            "339/339 - 1s - loss: 508.9493 - f1_m: 0.5340 - val_loss: 1048.6110 - val_f1_m: 0.6346 - 633ms/epoch - 2ms/step\n",
            "Epoch 18/80\n",
            "339/339 - 1s - loss: 570.8986 - f1_m: 0.5224 - val_loss: 171.2341 - val_f1_m: 0.6585 - 777ms/epoch - 2ms/step\n",
            "Epoch 19/80\n",
            "339/339 - 1s - loss: 380.5477 - f1_m: 0.5294 - val_loss: 627.0319 - val_f1_m: 0.6476 - 773ms/epoch - 2ms/step\n",
            "Epoch 20/80\n",
            "339/339 - 1s - loss: 523.3737 - f1_m: 0.5273 - val_loss: 118.5518 - val_f1_m: 0.6895 - 625ms/epoch - 2ms/step\n",
            "Epoch 21/80\n",
            "339/339 - 1s - loss: 471.9332 - f1_m: 0.5228 - val_loss: 187.4028 - val_f1_m: 0.6976 - 779ms/epoch - 2ms/step\n",
            "Epoch 22/80\n",
            "339/339 - 1s - loss: 370.4614 - f1_m: 0.5193 - val_loss: 348.7947 - val_f1_m: 0.6323 - 629ms/epoch - 2ms/step\n",
            "Epoch 23/80\n",
            "339/339 - 1s - loss: 385.6721 - f1_m: 0.5207 - val_loss: 87.5914 - val_f1_m: 0.6712 - 634ms/epoch - 2ms/step\n",
            "Epoch 24/80\n",
            "339/339 - 1s - loss: 328.1829 - f1_m: 0.5227 - val_loss: 994.8165 - val_f1_m: 0.6333 - 633ms/epoch - 2ms/step\n",
            "Epoch 25/80\n",
            "339/339 - 1s - loss: 373.2859 - f1_m: 0.5211 - val_loss: 375.2905 - val_f1_m: 0.0297 - 612ms/epoch - 2ms/step\n",
            "Epoch 26/80\n",
            "339/339 - 1s - loss: 395.2560 - f1_m: 0.5274 - val_loss: 256.0363 - val_f1_m: 0.6751 - 625ms/epoch - 2ms/step\n",
            "Epoch 27/80\n",
            "339/339 - 1s - loss: 309.0805 - f1_m: 0.5472 - val_loss: 538.6319 - val_f1_m: 0.6342 - 603ms/epoch - 2ms/step\n",
            "Epoch 28/80\n",
            "339/339 - 1s - loss: 301.8295 - f1_m: 0.5350 - val_loss: 159.3702 - val_f1_m: 0.2509 - 607ms/epoch - 2ms/step\n",
            "Epoch 29/80\n",
            "339/339 - 1s - loss: 272.6308 - f1_m: 0.5338 - val_loss: 218.5425 - val_f1_m: 0.1107 - 804ms/epoch - 2ms/step\n",
            "Epoch 30/80\n",
            "339/339 - 1s - loss: 323.0444 - f1_m: 0.5200 - val_loss: 742.0665 - val_f1_m: 0.0918 - 622ms/epoch - 2ms/step\n",
            "Epoch 31/80\n",
            "339/339 - 1s - loss: 296.0835 - f1_m: 0.5495 - val_loss: 106.1042 - val_f1_m: 0.2735 - 628ms/epoch - 2ms/step\n",
            "Epoch 32/80\n",
            "339/339 - 1s - loss: 212.1360 - f1_m: 0.5625 - val_loss: 130.0521 - val_f1_m: 0.3479 - 641ms/epoch - 2ms/step\n",
            "Epoch 33/80\n",
            "339/339 - 1s - loss: 312.1831 - f1_m: 0.5278 - val_loss: 59.9317 - val_f1_m: 0.6750 - 612ms/epoch - 2ms/step\n",
            "Epoch 34/80\n",
            "339/339 - 1s - loss: 286.1662 - f1_m: 0.5390 - val_loss: 132.7741 - val_f1_m: 0.6960 - 629ms/epoch - 2ms/step\n",
            "Epoch 35/80\n",
            "339/339 - 1s - loss: 321.1251 - f1_m: 0.5271 - val_loss: 317.9402 - val_f1_m: 0.6487 - 796ms/epoch - 2ms/step\n",
            "Epoch 36/80\n",
            "339/339 - 1s - loss: 289.6583 - f1_m: 0.5382 - val_loss: 193.4404 - val_f1_m: 0.0833 - 760ms/epoch - 2ms/step\n",
            "Epoch 37/80\n",
            "339/339 - 1s - loss: 320.4997 - f1_m: 0.5196 - val_loss: 319.2118 - val_f1_m: 0.4766 - 627ms/epoch - 2ms/step\n",
            "Epoch 38/80\n",
            "339/339 - 1s - loss: 305.5784 - f1_m: 0.5362 - val_loss: 287.9087 - val_f1_m: 0.6387 - 643ms/epoch - 2ms/step\n",
            "Epoch 39/80\n",
            "339/339 - 1s - loss: 260.7655 - f1_m: 0.5338 - val_loss: 126.8728 - val_f1_m: 0.6966 - 780ms/epoch - 2ms/step\n",
            "Epoch 40/80\n",
            "339/339 - 1s - loss: 284.8459 - f1_m: 0.5428 - val_loss: 1018.3816 - val_f1_m: 0.6252 - 763ms/epoch - 2ms/step\n",
            "Epoch 41/80\n",
            "339/339 - 1s - loss: 182.6791 - f1_m: 0.5607 - val_loss: 748.2978 - val_f1_m: 0.0697 - 614ms/epoch - 2ms/step\n",
            "Epoch 42/80\n",
            "339/339 - 1s - loss: 260.4730 - f1_m: 0.5351 - val_loss: 600.1551 - val_f1_m: 0.6336 - 635ms/epoch - 2ms/step\n",
            "Epoch 43/80\n",
            "339/339 - 1s - loss: 225.7283 - f1_m: 0.5614 - val_loss: 61.8297 - val_f1_m: 0.6844 - 629ms/epoch - 2ms/step\n",
            "Epoch 44/80\n",
            "339/339 - 1s - loss: 199.7627 - f1_m: 0.5452 - val_loss: 227.7597 - val_f1_m: 0.5650 - 771ms/epoch - 2ms/step\n",
            "Epoch 45/80\n",
            "339/339 - 1s - loss: 258.1451 - f1_m: 0.5469 - val_loss: 248.5083 - val_f1_m: 0.6472 - 615ms/epoch - 2ms/step\n",
            "Epoch 46/80\n",
            "339/339 - 1s - loss: 231.9220 - f1_m: 0.5445 - val_loss: 139.1498 - val_f1_m: 0.6687 - 628ms/epoch - 2ms/step\n",
            "Epoch 47/80\n",
            "339/339 - 1s - loss: 228.7950 - f1_m: 0.5397 - val_loss: 81.7620 - val_f1_m: 0.6943 - 624ms/epoch - 2ms/step\n",
            "Epoch 48/80\n",
            "339/339 - 1s - loss: 210.5838 - f1_m: 0.5448 - val_loss: 836.6431 - val_f1_m: 0.6077 - 613ms/epoch - 2ms/step\n",
            "Epoch 49/80\n",
            "339/339 - 1s - loss: 207.1400 - f1_m: 0.5533 - val_loss: 106.8675 - val_f1_m: 0.1659 - 632ms/epoch - 2ms/step\n",
            "Epoch 50/80\n",
            "339/339 - 1s - loss: 221.9224 - f1_m: 0.5488 - val_loss: 986.3727 - val_f1_m: 0.1524 - 614ms/epoch - 2ms/step\n",
            "Epoch 51/80\n",
            "339/339 - 1s - loss: 261.1612 - f1_m: 0.5540 - val_loss: 628.4627 - val_f1_m: 0.6340 - 616ms/epoch - 2ms/step\n",
            "Epoch 52/80\n",
            "339/339 - 1s - loss: 148.0751 - f1_m: 0.5645 - val_loss: 54.5059 - val_f1_m: 0.6676 - 617ms/epoch - 2ms/step\n",
            "Epoch 53/80\n",
            "339/339 - 1s - loss: 194.0159 - f1_m: 0.5560 - val_loss: 166.6509 - val_f1_m: 0.3798 - 786ms/epoch - 2ms/step\n",
            "Epoch 54/80\n",
            "339/339 - 1s - loss: 191.5194 - f1_m: 0.5551 - val_loss: 85.5884 - val_f1_m: 0.6634 - 616ms/epoch - 2ms/step\n",
            "Epoch 55/80\n",
            "339/339 - 1s - loss: 211.8272 - f1_m: 0.5518 - val_loss: 398.7571 - val_f1_m: 0.6503 - 626ms/epoch - 2ms/step\n",
            "Epoch 56/80\n",
            "339/339 - 1s - loss: 165.2176 - f1_m: 0.5681 - val_loss: 105.1866 - val_f1_m: 0.6683 - 626ms/epoch - 2ms/step\n",
            "Epoch 57/80\n",
            "339/339 - 1s - loss: 175.3322 - f1_m: 0.5489 - val_loss: 666.5005 - val_f1_m: 0.6339 - 610ms/epoch - 2ms/step\n",
            "Epoch 58/80\n",
            "339/339 - 1s - loss: 201.2326 - f1_m: 0.5636 - val_loss: 230.3861 - val_f1_m: 0.6679 - 619ms/epoch - 2ms/step\n",
            "Epoch 59/80\n",
            "339/339 - 1s - loss: 161.6251 - f1_m: 0.5743 - val_loss: 106.8127 - val_f1_m: 0.6585 - 618ms/epoch - 2ms/step\n",
            "Epoch 60/80\n",
            "339/339 - 1s - loss: 102.0722 - f1_m: 0.5849 - val_loss: 108.1643 - val_f1_m: 0.4359 - 612ms/epoch - 2ms/step\n",
            "Epoch 61/80\n",
            "339/339 - 1s - loss: 183.7080 - f1_m: 0.5501 - val_loss: 36.6408 - val_f1_m: 0.6790 - 790ms/epoch - 2ms/step\n",
            "Epoch 62/80\n",
            "339/339 - 1s - loss: 161.8412 - f1_m: 0.5670 - val_loss: 174.4158 - val_f1_m: 0.2584 - 625ms/epoch - 2ms/step\n",
            "Epoch 63/80\n",
            "339/339 - 1s - loss: 182.1528 - f1_m: 0.5671 - val_loss: 81.3454 - val_f1_m: 0.6887 - 621ms/epoch - 2ms/step\n",
            "Epoch 64/80\n",
            "339/339 - 1s - loss: 147.8744 - f1_m: 0.5636 - val_loss: 447.0543 - val_f1_m: 0.6322 - 788ms/epoch - 2ms/step\n",
            "Epoch 65/80\n",
            "339/339 - 1s - loss: 212.1706 - f1_m: 0.5635 - val_loss: 193.8356 - val_f1_m: 0.2245 - 627ms/epoch - 2ms/step\n",
            "Epoch 66/80\n",
            "339/339 - 1s - loss: 155.3985 - f1_m: 0.5883 - val_loss: 28.4055 - val_f1_m: 0.6562 - 792ms/epoch - 2ms/step\n",
            "Epoch 67/80\n",
            "339/339 - 1s - loss: 129.1639 - f1_m: 0.5761 - val_loss: 33.8151 - val_f1_m: 0.7082 - 629ms/epoch - 2ms/step\n",
            "Epoch 68/80\n",
            "339/339 - 1s - loss: 144.6037 - f1_m: 0.5688 - val_loss: 74.2036 - val_f1_m: 0.6431 - 644ms/epoch - 2ms/step\n",
            "Epoch 69/80\n",
            "339/339 - 1s - loss: 128.5032 - f1_m: 0.5643 - val_loss: 27.3267 - val_f1_m: 0.7066 - 628ms/epoch - 2ms/step\n",
            "Epoch 70/80\n",
            "339/339 - 1s - loss: 109.5040 - f1_m: 0.5818 - val_loss: 96.2009 - val_f1_m: 0.6482 - 780ms/epoch - 2ms/step\n",
            "Epoch 71/80\n",
            "339/339 - 1s - loss: 128.6021 - f1_m: 0.5703 - val_loss: 47.7092 - val_f1_m: 0.4173 - 621ms/epoch - 2ms/step\n",
            "Epoch 72/80\n",
            "339/339 - 1s - loss: 150.1812 - f1_m: 0.5776 - val_loss: 39.4860 - val_f1_m: 0.6231 - 640ms/epoch - 2ms/step\n",
            "Epoch 73/80\n",
            "339/339 - 1s - loss: 92.7398 - f1_m: 0.5675 - val_loss: 36.0553 - val_f1_m: 0.7142 - 617ms/epoch - 2ms/step\n",
            "Epoch 74/80\n",
            "339/339 - 1s - loss: 140.8324 - f1_m: 0.5636 - val_loss: 131.6673 - val_f1_m: 0.6443 - 613ms/epoch - 2ms/step\n",
            "Epoch 75/80\n",
            "339/339 - 1s - loss: 111.8500 - f1_m: 0.5708 - val_loss: 333.8857 - val_f1_m: 0.6335 - 613ms/epoch - 2ms/step\n",
            "Epoch 76/80\n",
            "339/339 - 1s - loss: 114.9504 - f1_m: 0.5748 - val_loss: 57.8228 - val_f1_m: 0.4707 - 624ms/epoch - 2ms/step\n",
            "Epoch 77/80\n",
            "339/339 - 1s - loss: 156.9926 - f1_m: 0.5646 - val_loss: 95.0435 - val_f1_m: 0.6679 - 795ms/epoch - 2ms/step\n",
            "Epoch 78/80\n",
            "339/339 - 1s - loss: 87.7548 - f1_m: 0.5894 - val_loss: 92.8598 - val_f1_m: 0.6476 - 614ms/epoch - 2ms/step\n",
            "Epoch 79/80\n",
            "339/339 - 1s - loss: 97.7534 - f1_m: 0.5843 - val_loss: 57.5751 - val_f1_m: 0.7054 - 625ms/epoch - 2ms/step\n",
            "Epoch 80/80\n",
            "339/339 - 1s - loss: 113.1527 - f1_m: 0.5690 - val_loss: 70.7505 - val_f1_m: 0.6121 - 624ms/epoch - 2ms/step\n"
          ]
        },
        {
          "output_type": "execute_result",
          "data": {
            "text/plain": [
              "<keras.callbacks.History at 0x7f94574dcdd0>"
            ]
          },
          "metadata": {},
          "execution_count": 120
        }
      ]
    },
    {
      "cell_type": "code",
      "metadata": {
        "colab": {
          "base_uri": "https://localhost:8080/"
        },
        "id": "BUY7JezNuRFV",
        "outputId": "6fa25690-2cbc-452c-877c-803adc4e9afe"
      },
      "source": [
        "test_data_final.shape"
      ],
      "execution_count": 121,
      "outputs": [
        {
          "output_type": "execute_result",
          "data": {
            "text/plain": [
              "(741, 10)"
            ]
          },
          "metadata": {},
          "execution_count": 121
        }
      ]
    },
    {
      "cell_type": "code",
      "metadata": {
        "id": "CTbiM2r1uFBD"
      },
      "source": [
        "final_pred=model.predict(test_data_final) \n",
        "final_pred_target=[]\n",
        "for i in final_pred:\n",
        "  if(i>0.5):\n",
        "    final_pred_target.append(1) \n",
        "  else:\n",
        "    final_pred_target.append(0)"
      ],
      "execution_count": 123,
      "outputs": []
    },
    {
      "cell_type": "code",
      "metadata": {
        "colab": {
          "base_uri": "https://localhost:8080/",
          "height": 417
        },
        "id": "ZM6PNThguqtd",
        "outputId": "c96c09e9-9364-4e9b-a004-0760e15ea208"
      },
      "source": [
        "test['Target']=final_pred_target\n",
        "test"
      ],
      "execution_count": 124,
      "outputs": [
        {
          "output_type": "execute_result",
          "data": {
            "text/html": [
              "<div>\n",
              "<style scoped>\n",
              "    .dataframe tbody tr th:only-of-type {\n",
              "        vertical-align: middle;\n",
              "    }\n",
              "\n",
              "    .dataframe tbody tr th {\n",
              "        vertical-align: top;\n",
              "    }\n",
              "\n",
              "    .dataframe thead th {\n",
              "        text-align: right;\n",
              "    }\n",
              "</style>\n",
              "<table border=\"1\" class=\"dataframe\">\n",
              "  <thead>\n",
              "    <tr style=\"text-align: right;\">\n",
              "      <th></th>\n",
              "      <th>Emp_ID</th>\n",
              "      <th>Target</th>\n",
              "    </tr>\n",
              "  </thead>\n",
              "  <tbody>\n",
              "    <tr>\n",
              "      <th>0</th>\n",
              "      <td>394</td>\n",
              "      <td>1</td>\n",
              "    </tr>\n",
              "    <tr>\n",
              "      <th>1</th>\n",
              "      <td>173</td>\n",
              "      <td>0</td>\n",
              "    </tr>\n",
              "    <tr>\n",
              "      <th>2</th>\n",
              "      <td>1090</td>\n",
              "      <td>1</td>\n",
              "    </tr>\n",
              "    <tr>\n",
              "      <th>3</th>\n",
              "      <td>840</td>\n",
              "      <td>1</td>\n",
              "    </tr>\n",
              "    <tr>\n",
              "      <th>4</th>\n",
              "      <td>308</td>\n",
              "      <td>0</td>\n",
              "    </tr>\n",
              "    <tr>\n",
              "      <th>...</th>\n",
              "      <td>...</td>\n",
              "      <td>...</td>\n",
              "    </tr>\n",
              "    <tr>\n",
              "      <th>736</th>\n",
              "      <td>2134</td>\n",
              "      <td>1</td>\n",
              "    </tr>\n",
              "    <tr>\n",
              "      <th>737</th>\n",
              "      <td>2255</td>\n",
              "      <td>1</td>\n",
              "    </tr>\n",
              "    <tr>\n",
              "      <th>738</th>\n",
              "      <td>448</td>\n",
              "      <td>0</td>\n",
              "    </tr>\n",
              "    <tr>\n",
              "      <th>739</th>\n",
              "      <td>1644</td>\n",
              "      <td>0</td>\n",
              "    </tr>\n",
              "    <tr>\n",
              "      <th>740</th>\n",
              "      <td>624</td>\n",
              "      <td>0</td>\n",
              "    </tr>\n",
              "  </tbody>\n",
              "</table>\n",
              "<p>741 rows × 2 columns</p>\n",
              "</div>"
            ],
            "text/plain": [
              "     Emp_ID  Target\n",
              "0       394       1\n",
              "1       173       0\n",
              "2      1090       1\n",
              "3       840       1\n",
              "4       308       0\n",
              "..      ...     ...\n",
              "736    2134       1\n",
              "737    2255       1\n",
              "738     448       0\n",
              "739    1644       0\n",
              "740     624       0\n",
              "\n",
              "[741 rows x 2 columns]"
            ]
          },
          "metadata": {},
          "execution_count": 124
        }
      ]
    },
    {
      "cell_type": "code",
      "metadata": {
        "id": "q4yL_RCUvLvx"
      },
      "source": [
        "test.to_csv('finalpred2.csv',index=False)"
      ],
      "execution_count": 125,
      "outputs": []
    },
    {
      "cell_type": "markdown",
      "metadata": {
        "id": "D5b-7q9j5TG5"
      },
      "source": [
        "# New Features"
      ]
    },
    {
      "cell_type": "code",
      "metadata": {
        "colab": {
          "base_uri": "https://localhost:8080/"
        },
        "id": "lVhBF92Z5VhY",
        "outputId": "7af11ca4-3544-430c-ea80-ffdd4a3429e9"
      },
      "source": [
        "X_new['Prev_Business_Value']=X_new['Total Business Value'].shift(1)\n",
        "X_new['Prev_Rating']=X_new['Quarterly Rating'].shift(1)"
      ],
      "execution_count": 131,
      "outputs": [
        {
          "output_type": "stream",
          "name": "stderr",
          "text": [
            "/usr/local/lib/python3.7/dist-packages/ipykernel_launcher.py:1: SettingWithCopyWarning: \n",
            "A value is trying to be set on a copy of a slice from a DataFrame.\n",
            "Try using .loc[row_indexer,col_indexer] = value instead\n",
            "\n",
            "See the caveats in the documentation: https://pandas.pydata.org/pandas-docs/stable/user_guide/indexing.html#returning-a-view-versus-a-copy\n",
            "  \"\"\"Entry point for launching an IPython kernel.\n",
            "/usr/local/lib/python3.7/dist-packages/ipykernel_launcher.py:2: SettingWithCopyWarning: \n",
            "A value is trying to be set on a copy of a slice from a DataFrame.\n",
            "Try using .loc[row_indexer,col_indexer] = value instead\n",
            "\n",
            "See the caveats in the documentation: https://pandas.pydata.org/pandas-docs/stable/user_guide/indexing.html#returning-a-view-versus-a-copy\n",
            "  \n"
          ]
        }
      ]
    },
    {
      "cell_type": "code",
      "metadata": {
        "id": "8PUfb-BQ6Z9o"
      },
      "source": [
        "for i in range(len(X_new)):\n",
        "  if(np.isnan(X_new.Prev_Business_Value.iloc[i])):\n",
        "    X_new.Prev_Business_Value.iloc[i]=X_new['Total Business Value'].iloc[i]\n",
        "  if(np.isnan(X_new.Prev_Rating.iloc[i])):\n",
        "    X_new.Prev_Rating.iloc[i]=X_new['Quarterly Rating'].iloc[i]"
      ],
      "execution_count": null,
      "outputs": []
    },
    {
      "cell_type": "code",
      "metadata": {
        "colab": {
          "base_uri": "https://localhost:8080/",
          "height": 470
        },
        "id": "DExZegz87SNz",
        "outputId": "80628955-a704-471a-f9d6-fdfb38b4dd27"
      },
      "source": [
        "X_new"
      ],
      "execution_count": 140,
      "outputs": [
        {
          "output_type": "execute_result",
          "data": {
            "text/html": [
              "<div>\n",
              "<style scoped>\n",
              "    .dataframe tbody tr th:only-of-type {\n",
              "        vertical-align: middle;\n",
              "    }\n",
              "\n",
              "    .dataframe tbody tr th {\n",
              "        vertical-align: top;\n",
              "    }\n",
              "\n",
              "    .dataframe thead th {\n",
              "        text-align: right;\n",
              "    }\n",
              "</style>\n",
              "<table border=\"1\" class=\"dataframe\">\n",
              "  <thead>\n",
              "    <tr style=\"text-align: right;\">\n",
              "      <th></th>\n",
              "      <th>Age</th>\n",
              "      <th>Gender_Encoded</th>\n",
              "      <th>City_Encoded</th>\n",
              "      <th>Education_Encoded</th>\n",
              "      <th>Salary</th>\n",
              "      <th>Joining Designation</th>\n",
              "      <th>Designation</th>\n",
              "      <th>Total Business Value</th>\n",
              "      <th>Quarterly Rating</th>\n",
              "      <th>Experience</th>\n",
              "      <th>Prev_Business_Value</th>\n",
              "      <th>Prev_Rating</th>\n",
              "    </tr>\n",
              "  </thead>\n",
              "  <tbody>\n",
              "    <tr>\n",
              "      <th>0</th>\n",
              "      <td>28</td>\n",
              "      <td>1</td>\n",
              "      <td>15</td>\n",
              "      <td>2</td>\n",
              "      <td>57387</td>\n",
              "      <td>1</td>\n",
              "      <td>1</td>\n",
              "      <td>2381060</td>\n",
              "      <td>2</td>\n",
              "      <td>8</td>\n",
              "      <td>2381060.0</td>\n",
              "      <td>2.0</td>\n",
              "    </tr>\n",
              "    <tr>\n",
              "      <th>1</th>\n",
              "      <td>28</td>\n",
              "      <td>1</td>\n",
              "      <td>15</td>\n",
              "      <td>2</td>\n",
              "      <td>57387</td>\n",
              "      <td>1</td>\n",
              "      <td>1</td>\n",
              "      <td>-665480</td>\n",
              "      <td>2</td>\n",
              "      <td>39</td>\n",
              "      <td>2381060.0</td>\n",
              "      <td>2.0</td>\n",
              "    </tr>\n",
              "    <tr>\n",
              "      <th>2</th>\n",
              "      <td>28</td>\n",
              "      <td>1</td>\n",
              "      <td>15</td>\n",
              "      <td>2</td>\n",
              "      <td>57387</td>\n",
              "      <td>1</td>\n",
              "      <td>1</td>\n",
              "      <td>0</td>\n",
              "      <td>2</td>\n",
              "      <td>68</td>\n",
              "      <td>-665480.0</td>\n",
              "      <td>2.0</td>\n",
              "    </tr>\n",
              "    <tr>\n",
              "      <th>3</th>\n",
              "      <td>43</td>\n",
              "      <td>1</td>\n",
              "      <td>4</td>\n",
              "      <td>2</td>\n",
              "      <td>65603</td>\n",
              "      <td>2</td>\n",
              "      <td>2</td>\n",
              "      <td>0</td>\n",
              "      <td>1</td>\n",
              "      <td>-6</td>\n",
              "      <td>0.0</td>\n",
              "      <td>2.0</td>\n",
              "    </tr>\n",
              "    <tr>\n",
              "      <th>4</th>\n",
              "      <td>43</td>\n",
              "      <td>1</td>\n",
              "      <td>4</td>\n",
              "      <td>2</td>\n",
              "      <td>65603</td>\n",
              "      <td>2</td>\n",
              "      <td>2</td>\n",
              "      <td>0</td>\n",
              "      <td>1</td>\n",
              "      <td>25</td>\n",
              "      <td>0.0</td>\n",
              "      <td>1.0</td>\n",
              "    </tr>\n",
              "    <tr>\n",
              "      <th>...</th>\n",
              "      <td>...</td>\n",
              "      <td>...</td>\n",
              "      <td>...</td>\n",
              "      <td>...</td>\n",
              "      <td>...</td>\n",
              "      <td>...</td>\n",
              "      <td>...</td>\n",
              "      <td>...</td>\n",
              "      <td>...</td>\n",
              "      <td>...</td>\n",
              "      <td>...</td>\n",
              "      <td>...</td>\n",
              "    </tr>\n",
              "    <tr>\n",
              "      <th>15462</th>\n",
              "      <td>28</td>\n",
              "      <td>0</td>\n",
              "      <td>12</td>\n",
              "      <td>2</td>\n",
              "      <td>69498</td>\n",
              "      <td>1</td>\n",
              "      <td>1</td>\n",
              "      <td>319740</td>\n",
              "      <td>2</td>\n",
              "      <td>224</td>\n",
              "      <td>250000.0</td>\n",
              "      <td>2.0</td>\n",
              "    </tr>\n",
              "    <tr>\n",
              "      <th>15463</th>\n",
              "      <td>28</td>\n",
              "      <td>0</td>\n",
              "      <td>12</td>\n",
              "      <td>2</td>\n",
              "      <td>69498</td>\n",
              "      <td>1</td>\n",
              "      <td>1</td>\n",
              "      <td>0</td>\n",
              "      <td>1</td>\n",
              "      <td>255</td>\n",
              "      <td>319740.0</td>\n",
              "      <td>2.0</td>\n",
              "    </tr>\n",
              "    <tr>\n",
              "      <th>15464</th>\n",
              "      <td>28</td>\n",
              "      <td>0</td>\n",
              "      <td>12</td>\n",
              "      <td>2</td>\n",
              "      <td>69498</td>\n",
              "      <td>1</td>\n",
              "      <td>1</td>\n",
              "      <td>0</td>\n",
              "      <td>1</td>\n",
              "      <td>285</td>\n",
              "      <td>0.0</td>\n",
              "      <td>1.0</td>\n",
              "    </tr>\n",
              "    <tr>\n",
              "      <th>15465</th>\n",
              "      <td>28</td>\n",
              "      <td>0</td>\n",
              "      <td>12</td>\n",
              "      <td>2</td>\n",
              "      <td>69498</td>\n",
              "      <td>1</td>\n",
              "      <td>1</td>\n",
              "      <td>0</td>\n",
              "      <td>1</td>\n",
              "      <td>316</td>\n",
              "      <td>0.0</td>\n",
              "      <td>1.0</td>\n",
              "    </tr>\n",
              "    <tr>\n",
              "      <th>15466</th>\n",
              "      <td>29</td>\n",
              "      <td>1</td>\n",
              "      <td>19</td>\n",
              "      <td>2</td>\n",
              "      <td>70254</td>\n",
              "      <td>2</td>\n",
              "      <td>2</td>\n",
              "      <td>0</td>\n",
              "      <td>1</td>\n",
              "      <td>-7</td>\n",
              "      <td>0.0</td>\n",
              "      <td>1.0</td>\n",
              "    </tr>\n",
              "  </tbody>\n",
              "</table>\n",
              "<p>15467 rows × 12 columns</p>\n",
              "</div>"
            ],
            "text/plain": [
              "       Age  Gender_Encoded  ...  Prev_Business_Value  Prev_Rating\n",
              "0       28               1  ...            2381060.0          2.0\n",
              "1       28               1  ...            2381060.0          2.0\n",
              "2       28               1  ...            -665480.0          2.0\n",
              "3       43               1  ...                  0.0          2.0\n",
              "4       43               1  ...                  0.0          1.0\n",
              "...    ...             ...  ...                  ...          ...\n",
              "15462   28               0  ...             250000.0          2.0\n",
              "15463   28               0  ...             319740.0          2.0\n",
              "15464   28               0  ...                  0.0          1.0\n",
              "15465   28               0  ...                  0.0          1.0\n",
              "15466   29               1  ...                  0.0          1.0\n",
              "\n",
              "[15467 rows x 12 columns]"
            ]
          },
          "metadata": {},
          "execution_count": 140
        }
      ]
    },
    {
      "cell_type": "code",
      "metadata": {
        "colab": {
          "base_uri": "https://localhost:8080/"
        },
        "id": "J7a1WM1VFYoE",
        "outputId": "15f5c2d3-8ab2-40b9-afe8-f44653587cf6"
      },
      "source": [
        "test_data_new.shape"
      ],
      "execution_count": 184,
      "outputs": [
        {
          "output_type": "execute_result",
          "data": {
            "text/plain": [
              "(8588, 11)"
            ]
          },
          "metadata": {},
          "execution_count": 184
        }
      ]
    },
    {
      "cell_type": "code",
      "metadata": {
        "id": "jLs0zb97_tAO"
      },
      "source": [
        "test_data_new['Prev_Business_Value']=test_data_new['Total Business Value'].shift(1)\n",
        "test_data_new['Prev_Rating']=test_data_new['Quarterly Rating'].shift(1)\n",
        "for i in range(len(test_data_new)):\n",
        "  if(np.isnan(test_data_new.Prev_Business_Value.iloc[i])):\n",
        "    test_data_new.Prev_Business_Value.iloc[i]=test_data_new['Total Business Value'].iloc[i]\n",
        "  if(np.isnan(test_data_new.Prev_Rating.iloc[i])):\n",
        "    test_data_new.Prev_Rating.iloc[i]=test_data_new['Quarterly Rating'].iloc[i]"
      ],
      "execution_count": null,
      "outputs": []
    },
    {
      "cell_type": "code",
      "metadata": {
        "colab": {
          "base_uri": "https://localhost:8080/",
          "height": 470
        },
        "id": "bI7Bpv9BAR2n",
        "outputId": "d33df4e0-cdb6-416b-dbb6-2e9f2238120a"
      },
      "source": [
        "test_data_new"
      ],
      "execution_count": 187,
      "outputs": [
        {
          "output_type": "execute_result",
          "data": {
            "text/html": [
              "<div>\n",
              "<style scoped>\n",
              "    .dataframe tbody tr th:only-of-type {\n",
              "        vertical-align: middle;\n",
              "    }\n",
              "\n",
              "    .dataframe tbody tr th {\n",
              "        vertical-align: top;\n",
              "    }\n",
              "\n",
              "    .dataframe thead th {\n",
              "        text-align: right;\n",
              "    }\n",
              "</style>\n",
              "<table border=\"1\" class=\"dataframe\">\n",
              "  <thead>\n",
              "    <tr style=\"text-align: right;\">\n",
              "      <th></th>\n",
              "      <th>Emp_ID</th>\n",
              "      <th>Age</th>\n",
              "      <th>Gender_Encoded</th>\n",
              "      <th>City_Encoded</th>\n",
              "      <th>Education_Encoded</th>\n",
              "      <th>Salary</th>\n",
              "      <th>Joining Designation</th>\n",
              "      <th>Designation</th>\n",
              "      <th>Total Business Value</th>\n",
              "      <th>Quarterly Rating</th>\n",
              "      <th>Experience</th>\n",
              "      <th>Prev_Business_Value</th>\n",
              "      <th>Prev_Rating</th>\n",
              "    </tr>\n",
              "  </thead>\n",
              "  <tbody>\n",
              "    <tr>\n",
              "      <th>0</th>\n",
              "      <td>2</td>\n",
              "      <td>31</td>\n",
              "      <td>1</td>\n",
              "      <td>26</td>\n",
              "      <td>2</td>\n",
              "      <td>67016</td>\n",
              "      <td>2</td>\n",
              "      <td>2</td>\n",
              "      <td>0</td>\n",
              "      <td>1</td>\n",
              "      <td>-5</td>\n",
              "      <td>0.0</td>\n",
              "      <td>1.0</td>\n",
              "    </tr>\n",
              "    <tr>\n",
              "      <th>1</th>\n",
              "      <td>2</td>\n",
              "      <td>31</td>\n",
              "      <td>1</td>\n",
              "      <td>26</td>\n",
              "      <td>2</td>\n",
              "      <td>67016</td>\n",
              "      <td>2</td>\n",
              "      <td>2</td>\n",
              "      <td>0</td>\n",
              "      <td>1</td>\n",
              "      <td>25</td>\n",
              "      <td>0.0</td>\n",
              "      <td>1.0</td>\n",
              "    </tr>\n",
              "    <tr>\n",
              "      <th>2</th>\n",
              "      <td>6</td>\n",
              "      <td>31</td>\n",
              "      <td>0</td>\n",
              "      <td>2</td>\n",
              "      <td>0</td>\n",
              "      <td>78728</td>\n",
              "      <td>3</td>\n",
              "      <td>3</td>\n",
              "      <td>0</td>\n",
              "      <td>1</td>\n",
              "      <td>1</td>\n",
              "      <td>0.0</td>\n",
              "      <td>1.0</td>\n",
              "    </tr>\n",
              "    <tr>\n",
              "      <th>3</th>\n",
              "      <td>6</td>\n",
              "      <td>31</td>\n",
              "      <td>0</td>\n",
              "      <td>2</td>\n",
              "      <td>0</td>\n",
              "      <td>78728</td>\n",
              "      <td>3</td>\n",
              "      <td>3</td>\n",
              "      <td>0</td>\n",
              "      <td>1</td>\n",
              "      <td>32</td>\n",
              "      <td>0.0</td>\n",
              "      <td>1.0</td>\n",
              "    </tr>\n",
              "    <tr>\n",
              "      <th>4</th>\n",
              "      <td>6</td>\n",
              "      <td>31</td>\n",
              "      <td>0</td>\n",
              "      <td>2</td>\n",
              "      <td>0</td>\n",
              "      <td>78728</td>\n",
              "      <td>3</td>\n",
              "      <td>3</td>\n",
              "      <td>0</td>\n",
              "      <td>2</td>\n",
              "      <td>62</td>\n",
              "      <td>0.0</td>\n",
              "      <td>1.0</td>\n",
              "    </tr>\n",
              "    <tr>\n",
              "      <th>...</th>\n",
              "      <td>...</td>\n",
              "      <td>...</td>\n",
              "      <td>...</td>\n",
              "      <td>...</td>\n",
              "      <td>...</td>\n",
              "      <td>...</td>\n",
              "      <td>...</td>\n",
              "      <td>...</td>\n",
              "      <td>...</td>\n",
              "      <td>...</td>\n",
              "      <td>...</td>\n",
              "      <td>...</td>\n",
              "      <td>...</td>\n",
              "    </tr>\n",
              "    <tr>\n",
              "      <th>8583</th>\n",
              "      <td>2788</td>\n",
              "      <td>30</td>\n",
              "      <td>1</td>\n",
              "      <td>19</td>\n",
              "      <td>2</td>\n",
              "      <td>70254</td>\n",
              "      <td>2</td>\n",
              "      <td>2</td>\n",
              "      <td>740280</td>\n",
              "      <td>3</td>\n",
              "      <td>54</td>\n",
              "      <td>497690.0</td>\n",
              "      <td>3.0</td>\n",
              "    </tr>\n",
              "    <tr>\n",
              "      <th>8584</th>\n",
              "      <td>2788</td>\n",
              "      <td>30</td>\n",
              "      <td>1</td>\n",
              "      <td>19</td>\n",
              "      <td>2</td>\n",
              "      <td>70254</td>\n",
              "      <td>2</td>\n",
              "      <td>2</td>\n",
              "      <td>448370</td>\n",
              "      <td>3</td>\n",
              "      <td>85</td>\n",
              "      <td>740280.0</td>\n",
              "      <td>3.0</td>\n",
              "    </tr>\n",
              "    <tr>\n",
              "      <th>8585</th>\n",
              "      <td>2788</td>\n",
              "      <td>30</td>\n",
              "      <td>1</td>\n",
              "      <td>19</td>\n",
              "      <td>2</td>\n",
              "      <td>70254</td>\n",
              "      <td>2</td>\n",
              "      <td>2</td>\n",
              "      <td>0</td>\n",
              "      <td>2</td>\n",
              "      <td>115</td>\n",
              "      <td>448370.0</td>\n",
              "      <td>3.0</td>\n",
              "    </tr>\n",
              "    <tr>\n",
              "      <th>8586</th>\n",
              "      <td>2788</td>\n",
              "      <td>30</td>\n",
              "      <td>1</td>\n",
              "      <td>19</td>\n",
              "      <td>2</td>\n",
              "      <td>70254</td>\n",
              "      <td>2</td>\n",
              "      <td>2</td>\n",
              "      <td>200420</td>\n",
              "      <td>2</td>\n",
              "      <td>146</td>\n",
              "      <td>0.0</td>\n",
              "      <td>2.0</td>\n",
              "    </tr>\n",
              "    <tr>\n",
              "      <th>8587</th>\n",
              "      <td>2788</td>\n",
              "      <td>30</td>\n",
              "      <td>1</td>\n",
              "      <td>19</td>\n",
              "      <td>2</td>\n",
              "      <td>70254</td>\n",
              "      <td>2</td>\n",
              "      <td>2</td>\n",
              "      <td>411480</td>\n",
              "      <td>2</td>\n",
              "      <td>176</td>\n",
              "      <td>200420.0</td>\n",
              "      <td>2.0</td>\n",
              "    </tr>\n",
              "  </tbody>\n",
              "</table>\n",
              "<p>8588 rows × 13 columns</p>\n",
              "</div>"
            ],
            "text/plain": [
              "      Emp_ID  Age  Gender_Encoded  ...  Experience  Prev_Business_Value  Prev_Rating\n",
              "0          2   31               1  ...          -5                  0.0          1.0\n",
              "1          2   31               1  ...          25                  0.0          1.0\n",
              "2          6   31               0  ...           1                  0.0          1.0\n",
              "3          6   31               0  ...          32                  0.0          1.0\n",
              "4          6   31               0  ...          62                  0.0          1.0\n",
              "...      ...  ...             ...  ...         ...                  ...          ...\n",
              "8583    2788   30               1  ...          54             497690.0          3.0\n",
              "8584    2788   30               1  ...          85             740280.0          3.0\n",
              "8585    2788   30               1  ...         115             448370.0          3.0\n",
              "8586    2788   30               1  ...         146                  0.0          2.0\n",
              "8587    2788   30               1  ...         176             200420.0          2.0\n",
              "\n",
              "[8588 rows x 13 columns]"
            ]
          },
          "metadata": {},
          "execution_count": 187
        }
      ]
    },
    {
      "cell_type": "code",
      "metadata": {
        "id": "FhRMmEv-Fy-7"
      },
      "source": [
        "test_group=test_data_new.groupby(by='Emp_ID')\n",
        "test_data_final2=[]\n",
        "for key,value in test_group:\n",
        "  group=test_group.get_group(key)\n",
        "  test_data_final2.append(group.iloc[-1])"
      ],
      "execution_count": 188,
      "outputs": []
    },
    {
      "cell_type": "code",
      "metadata": {
        "colab": {
          "base_uri": "https://localhost:8080/"
        },
        "id": "s2EeNXekG09O",
        "outputId": "c89a36ce-8518-4af6-b3be-d420885983d8"
      },
      "source": [
        "test_data_final2=pd.DataFrame(test_data_final2,columns=test_data_new.columns)\n",
        "test_data_final2.drop(['Emp_ID'],axis=1,inplace=True)\n",
        "test_data_final2.shape"
      ],
      "execution_count": 194,
      "outputs": [
        {
          "output_type": "execute_result",
          "data": {
            "text/plain": [
              "(741, 12)"
            ]
          },
          "metadata": {},
          "execution_count": 194
        }
      ]
    },
    {
      "cell_type": "markdown",
      "metadata": {
        "id": "fy5eBdUH_n9-"
      },
      "source": [
        "# Modelling on new features(NN)"
      ]
    },
    {
      "cell_type": "code",
      "metadata": {
        "colab": {
          "base_uri": "https://localhost:8080/"
        },
        "id": "H7csMx_67haA",
        "outputId": "1ab80b09-b39d-4bb3-9275-de63e1ddf4da"
      },
      "source": [
        "from sklearn.model_selection import train_test_split\n",
        "x_train,x_test,y_train,y_test=train_test_split(X_new,target,test_size=0.30,stratify=target)\n",
        "print(x_train.shape)\n",
        "x_train=np.array(x_train)\n",
        "y_train=np.array(y_train)\n",
        "x_test=np.array(x_test)\n",
        "y_test=np.array(y_test)\n",
        "model.compile(optimizer='adam',loss='binary_crossentropy',metrics=[f1_m])\n",
        "model.fit(x_train,y_train,epochs=70,validation_data=(x_test,y_test),verbose=2)"
      ],
      "execution_count": 222,
      "outputs": [
        {
          "output_type": "stream",
          "name": "stdout",
          "text": [
            "(10826, 12)\n",
            "Epoch 1/70\n",
            "339/339 - 1s - loss: 28487.3281 - f1_m: 0.5670 - val_loss: 1870.8218 - val_f1_m: 0.5448 - 1s/epoch - 4ms/step\n",
            "Epoch 2/70\n",
            "339/339 - 1s - loss: 3069.7878 - f1_m: 0.5559 - val_loss: 5591.3745 - val_f1_m: 0.5020 - 806ms/epoch - 2ms/step\n",
            "Epoch 3/70\n",
            "339/339 - 1s - loss: 3446.0669 - f1_m: 0.5462 - val_loss: 5397.9614 - val_f1_m: 0.6336 - 672ms/epoch - 2ms/step\n",
            "Epoch 4/70\n",
            "339/339 - 1s - loss: 3254.9736 - f1_m: 0.5330 - val_loss: 2616.7405 - val_f1_m: 0.6475 - 766ms/epoch - 2ms/step\n",
            "Epoch 5/70\n",
            "339/339 - 1s - loss: 2725.6477 - f1_m: 0.5258 - val_loss: 13369.6328 - val_f1_m: 0.6387 - 620ms/epoch - 2ms/step\n",
            "Epoch 6/70\n",
            "339/339 - 1s - loss: 3668.2253 - f1_m: 0.5437 - val_loss: 4757.8145 - val_f1_m: 0.5010 - 764ms/epoch - 2ms/step\n",
            "Epoch 7/70\n",
            "339/339 - 1s - loss: 2662.7681 - f1_m: 0.5536 - val_loss: 2454.2329 - val_f1_m: 0.6459 - 629ms/epoch - 2ms/step\n",
            "Epoch 8/70\n",
            "339/339 - 1s - loss: 2274.9326 - f1_m: 0.5356 - val_loss: 12947.8408 - val_f1_m: 0.5430 - 604ms/epoch - 2ms/step\n",
            "Epoch 9/70\n",
            "339/339 - 1s - loss: 3850.3823 - f1_m: 0.5472 - val_loss: 1222.9176 - val_f1_m: 0.6854 - 619ms/epoch - 2ms/step\n",
            "Epoch 10/70\n",
            "339/339 - 1s - loss: 2717.4973 - f1_m: 0.5367 - val_loss: 2187.6003 - val_f1_m: 0.5757 - 613ms/epoch - 2ms/step\n",
            "Epoch 11/70\n",
            "339/339 - 1s - loss: 2078.6853 - f1_m: 0.5492 - val_loss: 4953.2192 - val_f1_m: 0.0987 - 622ms/epoch - 2ms/step\n",
            "Epoch 12/70\n",
            "339/339 - 1s - loss: 2922.5269 - f1_m: 0.5416 - val_loss: 3028.2095 - val_f1_m: 0.6455 - 604ms/epoch - 2ms/step\n",
            "Epoch 13/70\n",
            "339/339 - 1s - loss: 2142.3550 - f1_m: 0.5460 - val_loss: 949.1685 - val_f1_m: 0.6390 - 603ms/epoch - 2ms/step\n",
            "Epoch 14/70\n",
            "339/339 - 1s - loss: 2289.1963 - f1_m: 0.5485 - val_loss: 1193.8695 - val_f1_m: 0.6876 - 788ms/epoch - 2ms/step\n",
            "Epoch 15/70\n",
            "339/339 - 1s - loss: 2285.3740 - f1_m: 0.5385 - val_loss: 3283.4219 - val_f1_m: 0.0707 - 608ms/epoch - 2ms/step\n",
            "Epoch 16/70\n",
            "339/339 - 1s - loss: 1987.4114 - f1_m: 0.5487 - val_loss: 1319.0526 - val_f1_m: 0.2768 - 616ms/epoch - 2ms/step\n",
            "Epoch 17/70\n",
            "339/339 - 1s - loss: 2249.9048 - f1_m: 0.5358 - val_loss: 1453.3325 - val_f1_m: 0.5800 - 616ms/epoch - 2ms/step\n",
            "Epoch 18/70\n",
            "339/339 - 1s - loss: 1557.9283 - f1_m: 0.5494 - val_loss: 1587.3030 - val_f1_m: 0.5230 - 615ms/epoch - 2ms/step\n",
            "Epoch 19/70\n",
            "339/339 - 1s - loss: 2092.4749 - f1_m: 0.5428 - val_loss: 2804.9910 - val_f1_m: 0.5783 - 781ms/epoch - 2ms/step\n",
            "Epoch 20/70\n",
            "339/339 - 1s - loss: 1965.1449 - f1_m: 0.5469 - val_loss: 1911.6731 - val_f1_m: 0.6402 - 645ms/epoch - 2ms/step\n",
            "Epoch 21/70\n",
            "339/339 - 1s - loss: 1683.7373 - f1_m: 0.5534 - val_loss: 2782.5044 - val_f1_m: 0.5792 - 633ms/epoch - 2ms/step\n",
            "Epoch 22/70\n",
            "339/339 - 1s - loss: 1636.0231 - f1_m: 0.5602 - val_loss: 1667.9645 - val_f1_m: 0.6202 - 618ms/epoch - 2ms/step\n",
            "Epoch 23/70\n",
            "339/339 - 1s - loss: 1988.4751 - f1_m: 0.5535 - val_loss: 586.4114 - val_f1_m: 0.6751 - 613ms/epoch - 2ms/step\n",
            "Epoch 24/70\n",
            "339/339 - 1s - loss: 1373.7297 - f1_m: 0.5558 - val_loss: 2167.3743 - val_f1_m: 0.2269 - 628ms/epoch - 2ms/step\n",
            "Epoch 25/70\n",
            "339/339 - 1s - loss: 1639.6427 - f1_m: 0.5480 - val_loss: 1669.0448 - val_f1_m: 0.5410 - 779ms/epoch - 2ms/step\n",
            "Epoch 26/70\n",
            "339/339 - 1s - loss: 1715.8625 - f1_m: 0.5334 - val_loss: 2273.6963 - val_f1_m: 0.3366 - 598ms/epoch - 2ms/step\n",
            "Epoch 27/70\n",
            "339/339 - 1s - loss: 1348.2537 - f1_m: 0.5580 - val_loss: 549.1240 - val_f1_m: 0.6656 - 618ms/epoch - 2ms/step\n",
            "Epoch 28/70\n",
            "339/339 - 1s - loss: 1626.6665 - f1_m: 0.5492 - val_loss: 799.6879 - val_f1_m: 0.6520 - 622ms/epoch - 2ms/step\n",
            "Epoch 29/70\n",
            "339/339 - 1s - loss: 1323.7090 - f1_m: 0.5408 - val_loss: 1164.4550 - val_f1_m: 0.3297 - 617ms/epoch - 2ms/step\n",
            "Epoch 30/70\n",
            "339/339 - 1s - loss: 1237.9091 - f1_m: 0.5621 - val_loss: 612.9569 - val_f1_m: 0.6311 - 622ms/epoch - 2ms/step\n",
            "Epoch 31/70\n",
            "339/339 - 1s - loss: 1171.8180 - f1_m: 0.5508 - val_loss: 1047.5278 - val_f1_m: 0.2657 - 600ms/epoch - 2ms/step\n",
            "Epoch 32/70\n",
            "339/339 - 1s - loss: 1536.7744 - f1_m: 0.5354 - val_loss: 1918.8445 - val_f1_m: 0.5565 - 612ms/epoch - 2ms/step\n",
            "Epoch 33/70\n",
            "339/339 - 1s - loss: 1416.5566 - f1_m: 0.5571 - val_loss: 1951.4381 - val_f1_m: 0.1837 - 608ms/epoch - 2ms/step\n",
            "Epoch 34/70\n",
            "339/339 - 1s - loss: 1126.5017 - f1_m: 0.5508 - val_loss: 889.6542 - val_f1_m: 0.6400 - 607ms/epoch - 2ms/step\n",
            "Epoch 35/70\n",
            "339/339 - 1s - loss: 1335.9915 - f1_m: 0.5421 - val_loss: 939.3020 - val_f1_m: 0.6679 - 619ms/epoch - 2ms/step\n",
            "Epoch 36/70\n",
            "339/339 - 1s - loss: 1332.8418 - f1_m: 0.5547 - val_loss: 1231.9913 - val_f1_m: 0.5639 - 647ms/epoch - 2ms/step\n",
            "Epoch 37/70\n",
            "339/339 - 1s - loss: 905.9056 - f1_m: 0.5517 - val_loss: 1075.4803 - val_f1_m: 0.6671 - 616ms/epoch - 2ms/step\n",
            "Epoch 38/70\n",
            "339/339 - 1s - loss: 1092.0240 - f1_m: 0.5503 - val_loss: 878.5997 - val_f1_m: 0.6598 - 625ms/epoch - 2ms/step\n",
            "Epoch 39/70\n",
            "339/339 - 1s - loss: 989.8029 - f1_m: 0.5537 - val_loss: 755.9920 - val_f1_m: 0.5704 - 621ms/epoch - 2ms/step\n",
            "Epoch 40/70\n",
            "339/339 - 1s - loss: 724.2868 - f1_m: 0.5501 - val_loss: 1260.1697 - val_f1_m: 0.6319 - 621ms/epoch - 2ms/step\n",
            "Epoch 41/70\n",
            "339/339 - 1s - loss: 906.4224 - f1_m: 0.5474 - val_loss: 1916.5215 - val_f1_m: 0.5056 - 638ms/epoch - 2ms/step\n",
            "Epoch 42/70\n",
            "339/339 - 1s - loss: 885.9932 - f1_m: 0.5600 - val_loss: 1333.6797 - val_f1_m: 0.6306 - 626ms/epoch - 2ms/step\n",
            "Epoch 43/70\n",
            "339/339 - 1s - loss: 915.9489 - f1_m: 0.5607 - val_loss: 440.8102 - val_f1_m: 0.5806 - 788ms/epoch - 2ms/step\n",
            "Epoch 44/70\n",
            "339/339 - 1s - loss: 750.9471 - f1_m: 0.5467 - val_loss: 629.2261 - val_f1_m: 0.6292 - 783ms/epoch - 2ms/step\n",
            "Epoch 45/70\n",
            "339/339 - 1s - loss: 854.4125 - f1_m: 0.5678 - val_loss: 1372.8624 - val_f1_m: 0.6324 - 611ms/epoch - 2ms/step\n",
            "Epoch 46/70\n",
            "339/339 - 1s - loss: 780.8823 - f1_m: 0.5579 - val_loss: 398.3293 - val_f1_m: 0.6860 - 767ms/epoch - 2ms/step\n",
            "Epoch 47/70\n",
            "339/339 - 1s - loss: 732.8585 - f1_m: 0.5608 - val_loss: 409.2517 - val_f1_m: 0.4918 - 620ms/epoch - 2ms/step\n",
            "Epoch 48/70\n",
            "339/339 - 1s - loss: 583.6158 - f1_m: 0.5607 - val_loss: 218.4873 - val_f1_m: 0.6675 - 609ms/epoch - 2ms/step\n",
            "Epoch 49/70\n",
            "339/339 - 1s - loss: 660.6792 - f1_m: 0.5485 - val_loss: 1014.9268 - val_f1_m: 0.6732 - 606ms/epoch - 2ms/step\n",
            "Epoch 50/70\n",
            "339/339 - 1s - loss: 671.7501 - f1_m: 0.5623 - val_loss: 971.2034 - val_f1_m: 0.3040 - 629ms/epoch - 2ms/step\n",
            "Epoch 51/70\n",
            "339/339 - 1s - loss: 859.4730 - f1_m: 0.5604 - val_loss: 597.2086 - val_f1_m: 0.6508 - 632ms/epoch - 2ms/step\n",
            "Epoch 52/70\n",
            "339/339 - 1s - loss: 640.6990 - f1_m: 0.5612 - val_loss: 343.7029 - val_f1_m: 0.6337 - 628ms/epoch - 2ms/step\n",
            "Epoch 53/70\n",
            "339/339 - 1s - loss: 807.2444 - f1_m: 0.5504 - val_loss: 575.1612 - val_f1_m: 0.6792 - 631ms/epoch - 2ms/step\n",
            "Epoch 54/70\n",
            "339/339 - 1s - loss: 584.1525 - f1_m: 0.5683 - val_loss: 911.5314 - val_f1_m: 0.6333 - 611ms/epoch - 2ms/step\n",
            "Epoch 55/70\n",
            "339/339 - 1s - loss: 738.9699 - f1_m: 0.5599 - val_loss: 359.7479 - val_f1_m: 0.6675 - 622ms/epoch - 2ms/step\n",
            "Epoch 56/70\n",
            "339/339 - 1s - loss: 511.8224 - f1_m: 0.5695 - val_loss: 801.6122 - val_f1_m: 0.6336 - 613ms/epoch - 2ms/step\n",
            "Epoch 57/70\n",
            "339/339 - 1s - loss: 572.1358 - f1_m: 0.5659 - val_loss: 258.8903 - val_f1_m: 0.6787 - 622ms/epoch - 2ms/step\n",
            "Epoch 58/70\n",
            "339/339 - 1s - loss: 478.3432 - f1_m: 0.5599 - val_loss: 1010.7513 - val_f1_m: 0.1429 - 780ms/epoch - 2ms/step\n",
            "Epoch 59/70\n",
            "339/339 - 1s - loss: 515.1390 - f1_m: 0.5665 - val_loss: 377.7693 - val_f1_m: 0.6481 - 625ms/epoch - 2ms/step\n",
            "Epoch 60/70\n",
            "339/339 - 1s - loss: 453.6990 - f1_m: 0.5762 - val_loss: 606.4913 - val_f1_m: 0.5485 - 793ms/epoch - 2ms/step\n",
            "Epoch 61/70\n",
            "339/339 - 1s - loss: 521.7363 - f1_m: 0.5695 - val_loss: 427.1515 - val_f1_m: 0.4650 - 623ms/epoch - 2ms/step\n",
            "Epoch 62/70\n",
            "339/339 - 1s - loss: 531.0219 - f1_m: 0.5577 - val_loss: 411.2068 - val_f1_m: 0.6687 - 622ms/epoch - 2ms/step\n",
            "Epoch 63/70\n",
            "339/339 - 1s - loss: 507.8757 - f1_m: 0.5667 - val_loss: 438.0995 - val_f1_m: 0.6317 - 629ms/epoch - 2ms/step\n",
            "Epoch 64/70\n",
            "339/339 - 1s - loss: 589.4017 - f1_m: 0.5606 - val_loss: 445.4762 - val_f1_m: 0.5530 - 614ms/epoch - 2ms/step\n",
            "Epoch 65/70\n",
            "339/339 - 1s - loss: 383.4077 - f1_m: 0.5807 - val_loss: 463.2591 - val_f1_m: 0.6706 - 780ms/epoch - 2ms/step\n",
            "Epoch 66/70\n",
            "339/339 - 1s - loss: 536.9055 - f1_m: 0.5481 - val_loss: 427.9686 - val_f1_m: 0.6488 - 629ms/epoch - 2ms/step\n",
            "Epoch 67/70\n",
            "339/339 - 1s - loss: 452.8847 - f1_m: 0.5638 - val_loss: 363.9082 - val_f1_m: 0.6857 - 614ms/epoch - 2ms/step\n",
            "Epoch 68/70\n",
            "339/339 - 1s - loss: 400.5895 - f1_m: 0.5615 - val_loss: 427.6238 - val_f1_m: 0.6457 - 620ms/epoch - 2ms/step\n",
            "Epoch 69/70\n",
            "339/339 - 1s - loss: 352.4380 - f1_m: 0.5621 - val_loss: 697.4456 - val_f1_m: 0.6489 - 630ms/epoch - 2ms/step\n",
            "Epoch 70/70\n",
            "339/339 - 1s - loss: 440.7017 - f1_m: 0.5555 - val_loss: 318.5173 - val_f1_m: 0.4089 - 781ms/epoch - 2ms/step\n"
          ]
        },
        {
          "output_type": "execute_result",
          "data": {
            "text/plain": [
              "<keras.callbacks.History at 0x7f9458a83950>"
            ]
          },
          "metadata": {},
          "execution_count": 222
        }
      ]
    },
    {
      "cell_type": "code",
      "metadata": {
        "colab": {
          "base_uri": "https://localhost:8080/"
        },
        "id": "CqgzPgDw-eWb",
        "outputId": "b5cda8fa-831a-49db-d460-206bdd66b56f"
      },
      "source": [
        "model.fit(x_train,y_train,epochs=1,validation_data=(x_test,y_test),verbose=2)"
      ],
      "execution_count": 229,
      "outputs": [
        {
          "output_type": "stream",
          "name": "stdout",
          "text": [
            "339/339 - 1s - loss: 6.1523 - f1_m: 0.6460 - val_loss: 2.6668 - val_f1_m: 0.6917 - 635ms/epoch - 2ms/step\n"
          ]
        },
        {
          "output_type": "execute_result",
          "data": {
            "text/plain": [
              "<keras.callbacks.History at 0x7f945ae32b90>"
            ]
          },
          "metadata": {},
          "execution_count": 229
        }
      ]
    },
    {
      "cell_type": "code",
      "metadata": {
        "id": "xi4RVX_E-nEE"
      },
      "source": [
        "model.save('model.h5')"
      ],
      "execution_count": 230,
      "outputs": []
    },
    {
      "cell_type": "code",
      "metadata": {
        "id": "NdPt2ATqAVJe"
      },
      "source": [
        "final_pred=model.predict(test_data_final2) \n",
        "final_pred_target=[]\n",
        "for i in final_pred:\n",
        "  if(i>0.5):\n",
        "    final_pred_target.append(1)\n",
        "  else:\n",
        "    final_pred_target.append(0)"
      ],
      "execution_count": 231,
      "outputs": []
    },
    {
      "cell_type": "code",
      "metadata": {
        "colab": {
          "base_uri": "https://localhost:8080/",
          "height": 417
        },
        "id": "269aaWDwAn4r",
        "outputId": "cb236b04-ad72-4f30-a897-4f1ead6f7cf5"
      },
      "source": [
        "test['Target']=final_pred_target\n",
        "test"
      ],
      "execution_count": 232,
      "outputs": [
        {
          "output_type": "execute_result",
          "data": {
            "text/html": [
              "<div>\n",
              "<style scoped>\n",
              "    .dataframe tbody tr th:only-of-type {\n",
              "        vertical-align: middle;\n",
              "    }\n",
              "\n",
              "    .dataframe tbody tr th {\n",
              "        vertical-align: top;\n",
              "    }\n",
              "\n",
              "    .dataframe thead th {\n",
              "        text-align: right;\n",
              "    }\n",
              "</style>\n",
              "<table border=\"1\" class=\"dataframe\">\n",
              "  <thead>\n",
              "    <tr style=\"text-align: right;\">\n",
              "      <th></th>\n",
              "      <th>Emp_ID</th>\n",
              "      <th>Target</th>\n",
              "    </tr>\n",
              "  </thead>\n",
              "  <tbody>\n",
              "    <tr>\n",
              "      <th>0</th>\n",
              "      <td>394</td>\n",
              "      <td>1</td>\n",
              "    </tr>\n",
              "    <tr>\n",
              "      <th>1</th>\n",
              "      <td>173</td>\n",
              "      <td>0</td>\n",
              "    </tr>\n",
              "    <tr>\n",
              "      <th>2</th>\n",
              "      <td>1090</td>\n",
              "      <td>1</td>\n",
              "    </tr>\n",
              "    <tr>\n",
              "      <th>3</th>\n",
              "      <td>840</td>\n",
              "      <td>1</td>\n",
              "    </tr>\n",
              "    <tr>\n",
              "      <th>4</th>\n",
              "      <td>308</td>\n",
              "      <td>0</td>\n",
              "    </tr>\n",
              "    <tr>\n",
              "      <th>...</th>\n",
              "      <td>...</td>\n",
              "      <td>...</td>\n",
              "    </tr>\n",
              "    <tr>\n",
              "      <th>736</th>\n",
              "      <td>2134</td>\n",
              "      <td>1</td>\n",
              "    </tr>\n",
              "    <tr>\n",
              "      <th>737</th>\n",
              "      <td>2255</td>\n",
              "      <td>1</td>\n",
              "    </tr>\n",
              "    <tr>\n",
              "      <th>738</th>\n",
              "      <td>448</td>\n",
              "      <td>0</td>\n",
              "    </tr>\n",
              "    <tr>\n",
              "      <th>739</th>\n",
              "      <td>1644</td>\n",
              "      <td>1</td>\n",
              "    </tr>\n",
              "    <tr>\n",
              "      <th>740</th>\n",
              "      <td>624</td>\n",
              "      <td>1</td>\n",
              "    </tr>\n",
              "  </tbody>\n",
              "</table>\n",
              "<p>741 rows × 2 columns</p>\n",
              "</div>"
            ],
            "text/plain": [
              "     Emp_ID  Target\n",
              "0       394       1\n",
              "1       173       0\n",
              "2      1090       1\n",
              "3       840       1\n",
              "4       308       0\n",
              "..      ...     ...\n",
              "736    2134       1\n",
              "737    2255       1\n",
              "738     448       0\n",
              "739    1644       1\n",
              "740     624       1\n",
              "\n",
              "[741 rows x 2 columns]"
            ]
          },
          "metadata": {},
          "execution_count": 232
        }
      ]
    },
    {
      "cell_type": "code",
      "metadata": {
        "id": "dkC9KZaCA1NT"
      },
      "source": [
        "test.to_csv('finalpred6.csv',index=False)"
      ],
      "execution_count": 233,
      "outputs": []
    },
    {
      "cell_type": "markdown",
      "metadata": {
        "id": "ysUyB39JIf4q"
      },
      "source": [
        "# Random on new dataset"
      ]
    },
    {
      "cell_type": "code",
      "metadata": {
        "colab": {
          "base_uri": "https://localhost:8080/"
        },
        "id": "bj8qbeHXInnu",
        "outputId": "efc83fd7-816d-4ab8-a41c-0276c499d09a"
      },
      "source": [
        "X_new.shape\n",
        "#len(target)"
      ],
      "execution_count": 204,
      "outputs": [
        {
          "output_type": "execute_result",
          "data": {
            "text/plain": [
              "(15467, 12)"
            ]
          },
          "metadata": {},
          "execution_count": 204
        }
      ]
    },
    {
      "cell_type": "code",
      "metadata": {
        "colab": {
          "base_uri": "https://localhost:8080/"
        },
        "id": "Sjxka_WMIfXt",
        "outputId": "826ea06d-b930-4e22-b004-b8e5c046b6d5"
      },
      "source": [
        "from sklearn.model_selection import GridSearchCV\n",
        "parameters = {'n_estimators':[20,50,100,200,500], 'max_depth':[5,10,20,30,50,100]}\n",
        "est=RandomForestClassifier()\n",
        "clf = GridSearchCV(est, parameters)\n",
        "clf.fit(X_new,target)"
      ],
      "execution_count": 205,
      "outputs": [
        {
          "output_type": "execute_result",
          "data": {
            "text/plain": [
              "GridSearchCV(estimator=RandomForestClassifier(),\n",
              "             param_grid={'max_depth': [5, 10, 20, 30, 50, 100],\n",
              "                         'n_estimators': [20, 50, 100, 200, 500]})"
            ]
          },
          "metadata": {},
          "execution_count": 205
        }
      ]
    },
    {
      "cell_type": "code",
      "metadata": {
        "colab": {
          "base_uri": "https://localhost:8080/"
        },
        "id": "rwNAGojLL2i0",
        "outputId": "7f161d88-3c3f-4f69-bf8a-63ab94f5d7eb"
      },
      "source": [
        "clf.best_params_"
      ],
      "execution_count": 206,
      "outputs": [
        {
          "output_type": "execute_result",
          "data": {
            "text/plain": [
              "{'max_depth': 5, 'n_estimators': 100}"
            ]
          },
          "metadata": {},
          "execution_count": 206
        }
      ]
    },
    {
      "cell_type": "code",
      "metadata": {
        "colab": {
          "base_uri": "https://localhost:8080/"
        },
        "id": "66e2e04fJ6tC",
        "outputId": "5b304d42-4d73-4479-c4ef-9d51d41b194d"
      },
      "source": [
        "ran=RandomForestClassifier(max_depth=5,n_estimators=100)\n",
        "ran.fit(X_new,target)"
      ],
      "execution_count": 234,
      "outputs": [
        {
          "output_type": "execute_result",
          "data": {
            "text/plain": [
              "RandomForestClassifier(max_depth=5)"
            ]
          },
          "metadata": {},
          "execution_count": 234
        }
      ]
    },
    {
      "cell_type": "code",
      "metadata": {
        "colab": {
          "base_uri": "https://localhost:8080/"
        },
        "id": "bnx_pOCYMbhA",
        "outputId": "4c197a60-716c-44f9-ca77-70b066197213"
      },
      "source": [
        "f1_score(y_test,ran.predict(x_test))"
      ],
      "execution_count": 235,
      "outputs": [
        {
          "output_type": "stream",
          "name": "stderr",
          "text": [
            "/usr/local/lib/python3.7/dist-packages/sklearn/base.py:446: UserWarning: X does not have valid feature names, but RandomForestClassifier was fitted with feature names\n",
            "  \"X does not have valid feature names, but\"\n"
          ]
        },
        {
          "output_type": "execute_result",
          "data": {
            "text/plain": [
              "0.7467113130829945"
            ]
          },
          "metadata": {},
          "execution_count": 235
        }
      ]
    },
    {
      "cell_type": "code",
      "metadata": {
        "id": "BvD4J4HcIzBz"
      },
      "source": [
        "final_pred=ran.predict(test_data_final2) \n",
        "test['Target']=final_pred\n"
      ],
      "execution_count": 236,
      "outputs": []
    },
    {
      "cell_type": "code",
      "metadata": {
        "colab": {
          "base_uri": "https://localhost:8080/",
          "height": 417
        },
        "id": "AH67Uy0kMvtK",
        "outputId": "bdde6a04-7ab9-47b2-c6c9-8a2d08a503a6"
      },
      "source": [
        "test"
      ],
      "execution_count": 237,
      "outputs": [
        {
          "output_type": "execute_result",
          "data": {
            "text/html": [
              "<div>\n",
              "<style scoped>\n",
              "    .dataframe tbody tr th:only-of-type {\n",
              "        vertical-align: middle;\n",
              "    }\n",
              "\n",
              "    .dataframe tbody tr th {\n",
              "        vertical-align: top;\n",
              "    }\n",
              "\n",
              "    .dataframe thead th {\n",
              "        text-align: right;\n",
              "    }\n",
              "</style>\n",
              "<table border=\"1\" class=\"dataframe\">\n",
              "  <thead>\n",
              "    <tr style=\"text-align: right;\">\n",
              "      <th></th>\n",
              "      <th>Emp_ID</th>\n",
              "      <th>Target</th>\n",
              "    </tr>\n",
              "  </thead>\n",
              "  <tbody>\n",
              "    <tr>\n",
              "      <th>0</th>\n",
              "      <td>394</td>\n",
              "      <td>1</td>\n",
              "    </tr>\n",
              "    <tr>\n",
              "      <th>1</th>\n",
              "      <td>173</td>\n",
              "      <td>0</td>\n",
              "    </tr>\n",
              "    <tr>\n",
              "      <th>2</th>\n",
              "      <td>1090</td>\n",
              "      <td>1</td>\n",
              "    </tr>\n",
              "    <tr>\n",
              "      <th>3</th>\n",
              "      <td>840</td>\n",
              "      <td>1</td>\n",
              "    </tr>\n",
              "    <tr>\n",
              "      <th>4</th>\n",
              "      <td>308</td>\n",
              "      <td>0</td>\n",
              "    </tr>\n",
              "    <tr>\n",
              "      <th>...</th>\n",
              "      <td>...</td>\n",
              "      <td>...</td>\n",
              "    </tr>\n",
              "    <tr>\n",
              "      <th>736</th>\n",
              "      <td>2134</td>\n",
              "      <td>1</td>\n",
              "    </tr>\n",
              "    <tr>\n",
              "      <th>737</th>\n",
              "      <td>2255</td>\n",
              "      <td>1</td>\n",
              "    </tr>\n",
              "    <tr>\n",
              "      <th>738</th>\n",
              "      <td>448</td>\n",
              "      <td>0</td>\n",
              "    </tr>\n",
              "    <tr>\n",
              "      <th>739</th>\n",
              "      <td>1644</td>\n",
              "      <td>0</td>\n",
              "    </tr>\n",
              "    <tr>\n",
              "      <th>740</th>\n",
              "      <td>624</td>\n",
              "      <td>0</td>\n",
              "    </tr>\n",
              "  </tbody>\n",
              "</table>\n",
              "<p>741 rows × 2 columns</p>\n",
              "</div>"
            ],
            "text/plain": [
              "     Emp_ID  Target\n",
              "0       394       1\n",
              "1       173       0\n",
              "2      1090       1\n",
              "3       840       1\n",
              "4       308       0\n",
              "..      ...     ...\n",
              "736    2134       1\n",
              "737    2255       1\n",
              "738     448       0\n",
              "739    1644       0\n",
              "740     624       0\n",
              "\n",
              "[741 rows x 2 columns]"
            ]
          },
          "metadata": {},
          "execution_count": 237
        }
      ]
    },
    {
      "cell_type": "code",
      "metadata": {
        "id": "S4vtqnrbMxGc"
      },
      "source": [
        "test.to_csv('finalpred7.csv',index=False)"
      ],
      "execution_count": 238,
      "outputs": []
    }
  ]
}